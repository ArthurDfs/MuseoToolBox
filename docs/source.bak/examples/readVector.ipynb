{
 "cells": [
  {
   "cell_type": "markdown",
   "metadata": {},
   "source": [
    "# Read values from vector\n",
    "This notebook is an example on how to read fields values from vector (points/lines/polygons)."
   ]
  },
  {
   "cell_type": "code",
   "execution_count": 1,
   "metadata": {},
   "outputs": [],
   "source": [
    "from MuseoToolBox.vectorTools import readValuesFromVector"
   ]
  },
  {
   "cell_type": "code",
   "execution_count": 2,
   "metadata": {},
   "outputs": [],
   "source": [
    "inVector = 'data/train_withROI.gpkg'"
   ]
  },
  {
   "cell_type": "markdown",
   "metadata": {},
   "source": [
    "## Read only one field\n"
   ]
  },
  {
   "cell_type": "code",
   "execution_count": 3,
   "metadata": {
    "scrolled": true
   },
   "outputs": [],
   "source": [
    "Y = readValuesFromVector(inVector,'class')"
   ]
  },
  {
   "cell_type": "markdown",
   "metadata": {},
   "source": [
    "## Read as many fields as needed\n",
    "Just add as much as needed fields, separated by ','."
   ]
  },
  {
   "cell_type": "code",
   "execution_count": 4,
   "metadata": {},
   "outputs": [],
   "source": [
    "Y,FID,band0 = readValuesFromVector(inVector,'Class','uniqueFID','band_0')"
   ]
  },
  {
   "cell_type": "code",
   "execution_count": 5,
   "metadata": {},
   "outputs": [
    {
     "name": "stdout",
     "output_type": "stream",
     "text": [
      "[1 1 1 1 1]\n",
      "[3 3 3 3 3]\n",
      "[ 84  96 160 132 146]\n"
     ]
    }
   ],
   "source": [
    "print(Y[:5])\n",
    "print(FID[:5])\n",
    "print(band0[:5])"
   ]
  },
  {
   "cell_type": "markdown",
   "metadata": {},
   "source": [
    "# Read multiple fields with same prefix\n",
    "\n",
    "To read multiple fields beginning with the same prefix (by using sampleExtraction tools for example),\n",
    "simply used **bandPrefix='band_'** to load each field beginning by *band_*."
   ]
  },
  {
   "cell_type": "code",
   "execution_count": 6,
   "metadata": {},
   "outputs": [],
   "source": [
    "Y,X = readValuesFromVector(inVector,'Class',bandPrefix='band_')"
   ]
  },
  {
   "cell_type": "code",
   "execution_count": 7,
   "metadata": {},
   "outputs": [
    {
     "name": "stdout",
     "output_type": "stream",
     "text": [
      "(50250,)\n",
      "(50250, 3)\n"
     ]
    }
   ],
   "source": [
    "print(Y.shape)\n",
    "print(X.shape)"
   ]
  },
  {
   "cell_type": "markdown",
   "metadata": {},
   "source": [
    "## Get 10 randoms labels with raster values"
   ]
  },
  {
   "cell_type": "code",
   "execution_count": 8,
   "metadata": {},
   "outputs": [
    {
     "name": "stdout",
     "output_type": "stream",
     "text": [
      "Values are : \n",
      "[[215 191 156]\n",
      " [212 191 154]\n",
      " [ 71  62  49]\n",
      " [171 157 124]\n",
      " [211 190 160]\n",
      " [209 185 149]\n",
      " [140 143 112]\n",
      " [108 101  78]\n",
      " [130 128  87]\n",
      " [ 81  71  54]]\n"
     ]
    }
   ],
   "source": [
    "import numpy as np\n",
    "randomPosition = np.random.randint(0,X.shape[0],10)\n",
    "print('Values are : ')\n",
    "print(X[randomPosition,:])"
   ]
  },
  {
   "cell_type": "code",
   "execution_count": 9,
   "metadata": {},
   "outputs": [
    {
     "name": "stdout",
     "output_type": "stream",
     "text": [
      "Labels are : \n",
      "[3 3 1 1 3 3 2 1 1 1]\n"
     ]
    }
   ],
   "source": [
    "    print('Labels are : ')\n",
    "    print(Y[randomPosition])"
   ]
  }
 ],
 "metadata": {
  "kernelspec": {
   "display_name": "Python 3",
   "language": "python",
   "name": "python3"
  },
  "language_info": {
   "codemirror_mode": {
    "name": "ipython",
    "version": 3
   },
   "file_extension": ".py",
   "mimetype": "text/x-python",
   "name": "python",
   "nbconvert_exporter": "python",
   "pygments_lexer": "ipython3",
   "version": "3.6.6"
  }
 },
 "nbformat": 4,
 "nbformat_minor": 2
}
