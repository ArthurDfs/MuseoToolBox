{
  "cells": [
    {
      "cell_type": "code",
      "execution_count": null,
      "metadata": {
        "collapsed": false
      },
      "outputs": [],
      "source": [
        "%matplotlib inline"
      ]
    },
    {
      "cell_type": "markdown",
      "metadata": {},
      "source": [
        "\nLearn with Random-Forest and compare Cross-Validation methods\n===============================================================\n\nThis example shows how to make a classification with different cross-validation methods.\n\n\n"
      ]
    },
    {
      "cell_type": "markdown",
      "metadata": {},
      "source": [
        "Import librairies\n-------------------------------------------\n\n"
      ]
    },
    {
      "cell_type": "code",
      "execution_count": null,
      "metadata": {
        "collapsed": false
      },
      "outputs": [],
      "source": [
        "from museotoolbox.ai import SuperLearner\nfrom museotoolbox import cross_validation\nfrom museotoolbox.processing import extract_ROI\nfrom museotoolbox import datasets\nfrom sklearn.ensemble import RandomForestClassifier\nfrom sklearn.model_selection import StratifiedKFold"
      ]
    },
    {
      "cell_type": "markdown",
      "metadata": {},
      "source": [
        "Load HistoricalMap dataset\n-------------------------------------------\n\n"
      ]
    },
    {
      "cell_type": "code",
      "execution_count": null,
      "metadata": {
        "collapsed": false
      },
      "outputs": [],
      "source": [
        "raster,vector = datasets.load_historical_data(low_res=True)\nfield = 'Class'\ngroup = 'uniquefid'\nX,y,g = extract_ROI(raster,vector,field,group)"
      ]
    },
    {
      "cell_type": "markdown",
      "metadata": {},
      "source": [
        "Initialize Random-Forest\n---------------------------\n\n"
      ]
    },
    {
      "cell_type": "code",
      "execution_count": null,
      "metadata": {
        "collapsed": false
      },
      "outputs": [],
      "source": [
        "classifier = RandomForestClassifier(random_state=12,n_jobs=1)"
      ]
    },
    {
      "cell_type": "markdown",
      "metadata": {},
      "source": [
        "Create list of different CV\n---------------------------\n\n"
      ]
    },
    {
      "cell_type": "code",
      "execution_count": null,
      "metadata": {
        "collapsed": false
      },
      "outputs": [],
      "source": [
        "CVs = [cross_validation.RandomStratifiedKFold(n_splits=2),\n       cross_validation.LeavePSubGroupOut(valid_size=0.5),\n       cross_validation.LeaveOneSubGroupOut(),\n       StratifiedKFold(n_splits=2,shuffle=True) #from sklearn\n       ]\n\nkappas=[]\n\n\n\nfor cv in CVs : \n    SL = SuperLearner( classifier=classifier,param_grid=dict(n_estimators=[50,100]),n_jobs=1)\n    SL.fit(X,y,group=g,cv=cv)\n    print('Kappa for '+str(type(cv).__name__))\n    cvKappa = []\n    \n    for stats in SL.get_stats_from_cv(confusion_matrix=False,kappa=True):\n        print(stats['kappa'])\n        cvKappa.append(stats['kappa'])\n    \n    kappas.append(cvKappa)\n    \n    print(20*'=')"
      ]
    },
    {
      "cell_type": "markdown",
      "metadata": {},
      "source": [
        "Plot example\n\n"
      ]
    },
    {
      "cell_type": "code",
      "execution_count": null,
      "metadata": {
        "collapsed": false
      },
      "outputs": [],
      "source": [
        "from matplotlib import pyplot as plt\nplt.title('Kappa according to Cross-validation methods')\nplt.boxplot(kappas,labels=[str(type(i).__name__) for i in CVs], patch_artist=True)\nplt.grid()\nplt.ylabel('Kappa')\nplt.xticks(rotation=15)\nplt.show()"
      ]
    }
  ],
  "metadata": {
    "kernelspec": {
      "display_name": "Python 3",
      "language": "python",
      "name": "python3"
    },
    "language_info": {
      "codemirror_mode": {
        "name": "ipython",
        "version": 3
      },
      "file_extension": ".py",
      "mimetype": "text/x-python",
      "name": "python",
      "nbconvert_exporter": "python",
      "pygments_lexer": "ipython3",
      "version": "3.6.9"
    }
  },
  "nbformat": 4,
  "nbformat_minor": 0
}