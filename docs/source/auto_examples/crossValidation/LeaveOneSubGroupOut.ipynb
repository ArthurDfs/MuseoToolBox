{
  "cells": [
    {
      "cell_type": "code",
      "execution_count": null,
      "metadata": {
        "collapsed": false
      },
      "outputs": [],
      "source": [
        "%matplotlib inline"
      ]
    },
    {
      "cell_type": "markdown",
      "metadata": {},
      "source": [
        "\nLeave-One-SubGroup-Out (LOSGO)\n======================================================\n\nThis example shows how to make a Leave-One-SubGroup-Out.\n\n\n"
      ]
    },
    {
      "cell_type": "markdown",
      "metadata": {},
      "source": [
        "Import librairies\n-------------------------------------------\n\n"
      ]
    },
    {
      "cell_type": "code",
      "execution_count": null,
      "metadata": {
        "collapsed": false
      },
      "outputs": [],
      "source": [
        "from MuseoToolBox.crossValidationTools import LeaveOneSubGroupOut\nfrom MuseoToolBox import datasets"
      ]
    },
    {
      "cell_type": "markdown",
      "metadata": {},
      "source": [
        "Load HistoricalMap dataset\n-------------------------------------------\n\n"
      ]
    },
    {
      "cell_type": "code",
      "execution_count": null,
      "metadata": {
        "collapsed": false
      },
      "outputs": [],
      "source": [
        "raster,vector = datasets.getHistoricalMap()\nfield = 'Class'\ngroup = 'uniquefid'"
      ]
    },
    {
      "cell_type": "markdown",
      "metadata": {},
      "source": [
        "Create CV\n-------------------------------------------\n\n"
      ]
    },
    {
      "cell_type": "code",
      "execution_count": null,
      "metadata": {
        "collapsed": false
      },
      "outputs": [],
      "source": [
        "valid_size = 0.5 # Means 50%\nLOSGO = LeaveOneSubGroupOut(vector,field,group,\n                            verbose=False,random_state=12)"
      ]
    },
    {
      "cell_type": "markdown",
      "metadata": {},
      "source": [
        "<div class=\"alert alert-info\"><h4>Note</h4><p>There is no need to specify a bandPrefix. \n   If bandPrefix is not specified, scipt will only generate the centroid</p></div>\n\n"
      ]
    },
    {
      "cell_type": "code",
      "execution_count": null,
      "metadata": {
        "collapsed": false
      },
      "outputs": [],
      "source": [
        "for tr,vl in LOSGO.split():\n    print(tr,vl)"
      ]
    },
    {
      "cell_type": "markdown",
      "metadata": {},
      "source": [
        "Differences with sklearn\n-------------------------------------------\nSklearn do not use subgroups\nas MuseoToolBox use one group per Y label    \n\n"
      ]
    },
    {
      "cell_type": "code",
      "execution_count": null,
      "metadata": {
        "collapsed": false
      },
      "outputs": [],
      "source": [
        "from sklearn.model_selection import LeaveOneGroupOut\nfrom MuseoToolBox import vectorTools\n\nY,Groups = vectorTools.readValuesFromVector(vector,field,group)\nLOGO = LeaveOneGroupOut()\nfor tr,vl in LOGO.split(X=Y,y=Y,groups=Groups):\n    print(tr,vl)\n# Plot example in image\n    \nimport numpy as np\nfrom matplotlib import pyplot as plt\nplt.scatter(np.random.randint(10,30,40),np.random.randint(10,30,40),s=100,color='#1f77b4')\nplt.scatter(np.random.randint(0,10,40),np.random.randint(10,30,40),s=100,color='#1f77b4')\nplt.scatter(np.random.randint(0,10,20),np.random.randint(0,10,20),s=100,color='#ff7f0e')\nplt.axis('off')\nplt.show()"
      ]
    }
  ],
  "metadata": {
    "kernelspec": {
      "display_name": "Python 3",
      "language": "python",
      "name": "python3"
    },
    "language_info": {
      "codemirror_mode": {
        "name": "ipython",
        "version": 3
      },
      "file_extension": ".py",
      "mimetype": "text/x-python",
      "name": "python",
      "nbconvert_exporter": "python",
      "pygments_lexer": "ipython3",
      "version": "3.6.7"
    }
  },
  "nbformat": 4,
  "nbformat_minor": 0
}