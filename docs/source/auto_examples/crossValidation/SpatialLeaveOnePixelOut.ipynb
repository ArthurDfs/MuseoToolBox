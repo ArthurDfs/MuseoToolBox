{
  "cells": [
    {
      "cell_type": "code",
      "execution_count": null,
      "metadata": {
        "collapsed": false
      },
      "outputs": [],
      "source": [
        "%matplotlib inline"
      ]
    },
    {
      "cell_type": "markdown",
      "metadata": {},
      "source": [
        "\nSpatial Leave-One-Pixel-Out (SLOPO)\n======================================================\n\nThis example shows how to make a Spatial Leave-One-Out called here\na Spatial Leave-One-Pixel-Out.\n\nFor more information see : https://onlinelibrary.wiley.com/doi/full/10.1111/geb.12161.\n\n\n"
      ]
    },
    {
      "cell_type": "markdown",
      "metadata": {},
      "source": [
        "Import librairies\n^^^^^^^^^^^^^^^^^^^^\n\n"
      ]
    },
    {
      "cell_type": "code",
      "execution_count": null,
      "metadata": {
        "collapsed": false
      },
      "outputs": [],
      "source": [
        "from MuseoToolBox.crossValidationTools import SpatialLeaveOnePixelOut\nfrom MuseoToolBox import datasets"
      ]
    },
    {
      "cell_type": "markdown",
      "metadata": {},
      "source": [
        "Load HistoricalMap dataset\n^^^^^^^^^^^^^^^^^^^^^^^^^^^^^^\n\n"
      ]
    },
    {
      "cell_type": "code",
      "execution_count": null,
      "metadata": {
        "collapsed": false
      },
      "outputs": [],
      "source": [
        "raster,vector = datasets.getHistoricalMap()\nfield = 'Class'"
      ]
    },
    {
      "cell_type": "markdown",
      "metadata": {},
      "source": [
        "Create CV\n^^^^^^^^^^^^^^^^^^^^^^^^^^^^^^\n n_splits will be the number  of the least populated class\n\n"
      ]
    },
    {
      "cell_type": "code",
      "execution_count": null,
      "metadata": {
        "collapsed": false
      },
      "outputs": [],
      "source": [
        "SLOPO = SpatialLeaveOnePixelOut(raster,vector,'Class',distanceThresold=100,seed=12)"
      ]
    },
    {
      "cell_type": "markdown",
      "metadata": {},
      "source": [
        "<div class=\"alert alert-info\"><h4>Note</h4><p>There is no need to specify a bandPrefix. \n   If bandPrefix is not specified, scipt will only generate the centroid</p></div>\n\n"
      ]
    },
    {
      "cell_type": "code",
      "execution_count": null,
      "metadata": {
        "collapsed": false
      },
      "outputs": [],
      "source": [
        "for tr,vl in SLOPO.split():\n    print(tr.shape,vl.shape)"
      ]
    },
    {
      "cell_type": "markdown",
      "metadata": {},
      "source": [
        "Draw image\n\n"
      ]
    },
    {
      "cell_type": "code",
      "execution_count": null,
      "metadata": {
        "collapsed": false
      },
      "outputs": [],
      "source": [
        "import numpy as np\nfrom matplotlib import pyplot as plt\nfig, ax = plt.subplots()\nplt.ylim(40,150)\nplt.xlim(40,150)\n\n\nplt.scatter(np.random.randint(50,150,50),np.random.randint(50,150,50),alpha=.8)\nplt.scatter(80,80, s=80*100,alpha=.8)\nplt.scatter(80,80,color='green',s=60)\nplt.text(82,82,'Validation pixel',size=12)\nplt.text(110,110,'Training pixels',size=12)\nplt.text(46,52,'Buffer of spatial auto-correlated pixels')\nplt.axis('off')\n\nplt.show()"
      ]
    }
  ],
  "metadata": {
    "kernelspec": {
      "display_name": "Python 3",
      "language": "python",
      "name": "python3"
    },
    "language_info": {
      "codemirror_mode": {
        "name": "ipython",
        "version": 3
      },
      "file_extension": ".py",
      "mimetype": "text/x-python",
      "name": "python",
      "nbconvert_exporter": "python",
      "pygments_lexer": "ipython3",
      "version": "3.6.7"
    }
  },
  "nbformat": 4,
  "nbformat_minor": 0
}