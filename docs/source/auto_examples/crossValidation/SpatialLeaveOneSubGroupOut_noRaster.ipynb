{
  "cells": [
    {
      "cell_type": "code",
      "execution_count": null,
      "metadata": {
        "collapsed": false
      },
      "outputs": [],
      "source": [
        "%matplotlib inline"
      ]
    },
    {
      "cell_type": "markdown",
      "metadata": {},
      "source": [
        "\nSpatial Leave-One-SubGroup-Out / No raster (SLOSGO)\n======================================================\n\nThis example shows how to make a Spatial Leave-One-Out using subgroup,\ncalled here a Spatial Leave-One-SubGroup-Out.\n\nIn this example, it shows how to use just once a raster.\n\n\n"
      ]
    },
    {
      "cell_type": "markdown",
      "metadata": {},
      "source": [
        "Import librairies\n-------------------------------------------\n\n"
      ]
    },
    {
      "cell_type": "code",
      "execution_count": null,
      "metadata": {
        "collapsed": false
      },
      "outputs": [],
      "source": [
        "from MuseoToolBox.crossValidationTools import SpatialLeaveOneSubGroupOut\nfrom MuseoToolBox.vectorTools import getDistanceMatrix\nfrom MuseoToolBox.rasterTools import getSamplesFromROI\nfrom MuseoToolBox import datasets"
      ]
    },
    {
      "cell_type": "markdown",
      "metadata": {},
      "source": [
        "Load HistoricalMap dataset\n-------------------------------------------\n\n"
      ]
    },
    {
      "cell_type": "code",
      "execution_count": null,
      "metadata": {
        "collapsed": false
      },
      "outputs": [],
      "source": [
        "raster,vector = datasets.getHistoricalMap()\nfield = 'Class'\nsubGroup = 'uniquefid'"
      ]
    },
    {
      "cell_type": "markdown",
      "metadata": {},
      "source": [
        "Get distance Matrix and label\n-------------------------------------------\n\n"
      ]
    },
    {
      "cell_type": "code",
      "execution_count": null,
      "metadata": {
        "collapsed": false
      },
      "outputs": [],
      "source": [
        "distanceMatrix,distanceLabel = getDistanceMatrix(raster,vector,subGroup)\nX,Y,S = getSamplesFromROI(raster,vector,field,subGroup)"
      ]
    },
    {
      "cell_type": "markdown",
      "metadata": {},
      "source": [
        "Create CV\n-------------------------------------------\n\n"
      ]
    },
    {
      "cell_type": "code",
      "execution_count": null,
      "metadata": {
        "collapsed": false
      },
      "outputs": [],
      "source": [
        "SLOSGO = SpatialLeaveOneSubGroupOut(inRaster=None,inVector=Y,inField=None,inGroup=S,\n                                    distanceMatrix=distanceMatrix,distanceLabel=distanceLabel,distanceThresold=100,\n                                    random_state=12,n_splits=False)"
      ]
    },
    {
      "cell_type": "markdown",
      "metadata": {},
      "source": [
        "<div class=\"alert alert-info\"><h4>Note</h4><p>There is no need to specify a bandPrefix. \n   If bandPrefix is not specified, scipt will only generate the centroid</p></div>\n\n"
      ]
    },
    {
      "cell_type": "code",
      "execution_count": null,
      "metadata": {
        "collapsed": false
      },
      "outputs": [],
      "source": [
        "for tr,vl in SLOSGO.split():\n    print(tr.shape,vl.shape)"
      ]
    },
    {
      "cell_type": "markdown",
      "metadata": {},
      "source": [
        "Draw image\n\n"
      ]
    },
    {
      "cell_type": "code",
      "execution_count": null,
      "metadata": {
        "collapsed": false
      },
      "outputs": [],
      "source": [
        "import numpy as np\nfrom matplotlib import pyplot as plt\nfig, ax = plt.subplots()\nplt.ylim(40,150)\nplt.xlim(40,150)\n\n\nplt.scatter(np.random.randint(100,150,50),np.random.randint(100,150,50),alpha=.8)\nplt.scatter(80,80, s=80*100,alpha=.8)\nplt.scatter(80,80,color='green',s=40)\nfor i in np.random.randint(72,88,20):\n    plt.scatter(i,np.random.randint(72,88),color='green',s=40)\nplt.text(92,82,'Validation pixels\\n(same group)',size=12)\nplt.text(100,120,'Training pixels',size=12, ha='right')\nplt.text(46,52,'Buffer of spatial auto-correlated pixels')\nplt.axis('off')\n\nplt.show()"
      ]
    }
  ],
  "metadata": {
    "kernelspec": {
      "display_name": "Python 3",
      "language": "python",
      "name": "python3"
    },
    "language_info": {
      "codemirror_mode": {
        "name": "ipython",
        "version": 3
      },
      "file_extension": ".py",
      "mimetype": "text/x-python",
      "name": "python",
      "nbconvert_exporter": "python",
      "pygments_lexer": "ipython3",
      "version": "3.6.7"
    }
  },
  "nbformat": 4,
  "nbformat_minor": 0
}