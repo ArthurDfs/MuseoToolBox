{
  "cells": [
    {
      "cell_type": "code",
      "execution_count": null,
      "metadata": {
        "collapsed": false
      },
      "outputs": [],
      "source": [
        "%matplotlib inline"
      ]
    },
    {
      "cell_type": "markdown",
      "metadata": {},
      "source": [
        "\nLeave One Out Per Class (LOOPC)\n======================================================\n\nThis example shows how to make a Leave One Out for each class.\n\n\n"
      ]
    },
    {
      "cell_type": "markdown",
      "metadata": {},
      "source": [
        "Import librairies\n-------------------------------------------\n\n"
      ]
    },
    {
      "cell_type": "code",
      "execution_count": null,
      "metadata": {
        "collapsed": false
      },
      "outputs": [],
      "source": [
        "from museotoolbox.cross_validation import LeaveOneOutPerClass\nfrom museotoolbox import datasets"
      ]
    },
    {
      "cell_type": "markdown",
      "metadata": {},
      "source": [
        "Load HistoricalMap dataset\n-------------------------------------------\n\n"
      ]
    },
    {
      "cell_type": "code",
      "execution_count": null,
      "metadata": {
        "collapsed": false
      },
      "outputs": [],
      "source": [
        "X,y = datasets.historicalMap(return_X_y=True)"
      ]
    },
    {
      "cell_type": "markdown",
      "metadata": {},
      "source": [
        "Create CV\n-------------------------------------------\n\n"
      ]
    },
    {
      "cell_type": "code",
      "execution_count": null,
      "metadata": {
        "collapsed": false
      },
      "outputs": [],
      "source": [
        "LOOPC = LeaveOneOutPerClass(random_state=8,verbose=False)\nfor tr,vl in LOOPC.split(X=None,y=y):\n    print(tr,vl)"
      ]
    },
    {
      "cell_type": "markdown",
      "metadata": {},
      "source": [
        "<div class=\"alert alert-info\"><h4>Note</h4><p>Split is made to generate each fold</p></div>\n\n"
      ]
    },
    {
      "cell_type": "code",
      "execution_count": null,
      "metadata": {
        "collapsed": false
      },
      "outputs": [],
      "source": [
        "# Show label\n\nfor tr,vl in LOOPC.split(X=None,y=y):\n    print(y[vl])"
      ]
    },
    {
      "cell_type": "markdown",
      "metadata": {},
      "source": [
        "Save each train/valid fold in a file\n-------------------------------------------\nIn order to translate polygons into points (each points is a pixel in the raster)\nwe use sampleExtraction from vector_tools to generate a temporary vector.\n\n"
      ]
    },
    {
      "cell_type": "code",
      "execution_count": null,
      "metadata": {
        "collapsed": false
      },
      "outputs": [],
      "source": [
        "trvl = LOOPC.saveVectorFiles(datasets.historicalMap()[1],'Class',outVector='/tmp/LOO.gpkg')\nfor tr,vl in trvl:\n    print(tr,vl)"
      ]
    },
    {
      "cell_type": "markdown",
      "metadata": {},
      "source": [
        "Plot example on how a polygon was splitted\n\n"
      ]
    },
    {
      "cell_type": "code",
      "execution_count": null,
      "metadata": {
        "collapsed": false
      },
      "outputs": [],
      "source": [
        "import ogr\nimport numpy as np    \nfrom matplotlib import pyplot as plt\nimport matplotlib.path as mpath\nimport matplotlib.patches as mpatches\n\n# Prepare figure\nplt.ioff()\nax=plt.subplot(1,1,1)\nax = plt.gca()\n\n\nxBounds,yBounds=[[],[]]\n\nfor idx,vector in enumerate([tr,vl]):\n    # Read all features in layer and store as paths    \n    ds = ogr.Open(vector)\n    lyr = ds.GetLayer(0)\n    \n    for feat in lyr:\n        paths = []\n        codes = []\n        all_x = []\n        all_y = []\n        \n        for geom in feat.GetGeometryRef():\n            x = [geom.GetX(j) for j in range(geom.GetPointCount())]\n            y = [geom.GetY(j) for j in range(geom.GetPointCount())]\n            print(y)\n            codes += [mpath.Path.MOVETO] + \\\n                             (len(x)-1)*[mpath.Path.LINETO]\n            all_x += x\n            all_y += y\n        path = mpath.Path(np.column_stack((all_x,all_y)), codes)\n        paths.append(path)\n                \n        # Add paths as patches to axes\n        for path in paths:\n            if idx==0:\n                ax.add_patch(mpatches.PathPatch(path,color='C0'))\n            else:\n                ax.add_patch(mpatches.PathPatch(path,color='C1'))\n                \n        xBounds.append([np.min(all_x),np.max(all_x)])\n        yBounds.append([np.min(all_y),np.max(all_y)])\n       \n\nax.set_xlim(np.min(np.array(xBounds)[:,0]),np.max(np.array(xBounds)[:,1]))\nax.set_ylim(np.min(np.array(yBounds)[:,0]),np.max(np.array(yBounds)[:,1]))\n\n\nlegend = [mpatches.Patch(color='C0', label='Train'),mpatches.Patch(color='C1', label='Valid')]\nplt.legend(handles=legend)\n\nplt.show()"
      ]
    }
  ],
  "metadata": {
    "kernelspec": {
      "display_name": "Python 3",
      "language": "python",
      "name": "python3"
    },
    "language_info": {
      "codemirror_mode": {
        "name": "ipython",
        "version": 3
      },
      "file_extension": ".py",
      "mimetype": "text/x-python",
      "name": "python",
      "nbconvert_exporter": "python",
      "pygments_lexer": "ipython3",
      "version": "3.6.8"
    }
  },
  "nbformat": 4,
  "nbformat_minor": 0
}