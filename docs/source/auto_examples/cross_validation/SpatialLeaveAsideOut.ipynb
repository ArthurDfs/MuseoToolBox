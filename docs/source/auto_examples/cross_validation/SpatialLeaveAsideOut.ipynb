{
  "cells": [
    {
      "cell_type": "code",
      "execution_count": null,
      "metadata": {
        "collapsed": false
      },
      "outputs": [],
      "source": [
        "%matplotlib inline"
      ]
    },
    {
      "cell_type": "markdown",
      "metadata": {},
      "source": [
        "\nSpatial Leave-Aside-Out (SLAO)\n======================================================\n\nThis example shows how to make a Spatial Leave-Aside-Out.\n\nSee https://doi.org/10.1016/j.foreco.2013.07.059\n\n\n"
      ]
    },
    {
      "cell_type": "markdown",
      "metadata": {},
      "source": [
        "Import librairies\n-------------------------------------------\n\n"
      ]
    },
    {
      "cell_type": "code",
      "execution_count": null,
      "metadata": {
        "collapsed": false
      },
      "outputs": [],
      "source": [
        "from museotoolbox.cross_validation import SpatialLeaveAsideOut\nfrom museotoolbox import datasets,raster_tools,vector_tools"
      ]
    },
    {
      "cell_type": "markdown",
      "metadata": {},
      "source": [
        "Load HistoricalMap dataset\n-------------------------------------------\n\n"
      ]
    },
    {
      "cell_type": "code",
      "execution_count": null,
      "metadata": {
        "collapsed": false
      },
      "outputs": [],
      "source": [
        "raster,vector = datasets.historicalMap()\nfield = 'Class'\nX,y = raster_tools.getSamplesFromROI(raster,vector,field)\ndistanceMatrix = vector_tools.getDistanceMatrix(raster,vector)"
      ]
    },
    {
      "cell_type": "markdown",
      "metadata": {},
      "source": [
        "Create CV\n-------------------------------------------\nn_splits will be the number  of the least populated class\n\n"
      ]
    },
    {
      "cell_type": "code",
      "execution_count": null,
      "metadata": {
        "collapsed": false
      },
      "outputs": [],
      "source": [
        "SLOPO = SpatialLeaveAsideOut(valid_size=0.5,n_splits=2,\n                             distanceMatrix=distanceMatrix,random_state=12)\n\nprint(SLOPO.get_n_splits(X,y))"
      ]
    },
    {
      "cell_type": "markdown",
      "metadata": {},
      "source": [
        "<div class=\"alert alert-info\"><h4>Note</h4><p>Split is made to generate each fold</p></div>\n\n"
      ]
    },
    {
      "cell_type": "code",
      "execution_count": null,
      "metadata": {
        "collapsed": false
      },
      "outputs": [],
      "source": [
        "for tr,vl in SLOPO.split(X,y):\n    print(tr.shape,vl.shape)"
      ]
    },
    {
      "cell_type": "markdown",
      "metadata": {},
      "source": [
        "Save each train/valid fold in a file\n-------------------------------------------\nIn order to translate polygons into points (each points is a pixel in the raster)\nwe use sampleExtraction from vector_tools to generate a temporary vector.\n\n"
      ]
    },
    {
      "cell_type": "code",
      "execution_count": null,
      "metadata": {
        "collapsed": false
      },
      "outputs": [],
      "source": [
        "vector_tools.sampleExtraction(raster,vector,outVector='/tmp/pixels.gpkg',verbose=False)\ntrvl = SLOPO.saveVectorFiles('/tmp/pixels.gpkg',field,outVector='/tmp/SLOPO.gpkg')\nfor tr,vl in trvl:\n    print(tr,vl)"
      ]
    }
  ],
  "metadata": {
    "kernelspec": {
      "display_name": "Python 3",
      "language": "python",
      "name": "python3"
    },
    "language_info": {
      "codemirror_mode": {
        "name": "ipython",
        "version": 3
      },
      "file_extension": ".py",
      "mimetype": "text/x-python",
      "name": "python",
      "nbconvert_exporter": "python",
      "pygments_lexer": "ipython3",
      "version": "3.6.7"
    }
  },
  "nbformat": 4,
  "nbformat_minor": 0
}