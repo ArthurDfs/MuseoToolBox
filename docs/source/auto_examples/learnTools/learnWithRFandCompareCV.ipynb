{
  "cells": [
    {
      "cell_type": "code",
      "execution_count": null,
      "metadata": {
        "collapsed": false
      },
      "outputs": [],
      "source": [
        "%matplotlib inline"
      ]
    },
    {
      "cell_type": "markdown",
      "metadata": {},
      "source": [
        "\nLearn with Random-Forest and compare Cross-Validation methods\n===============================================================\n\nThis example shows how to make a classification with different cross-validation methods.\n\n\n"
      ]
    },
    {
      "cell_type": "markdown",
      "metadata": {},
      "source": [
        "Import librairies\n-------------------------------------------\n\n"
      ]
    },
    {
      "cell_type": "code",
      "execution_count": null,
      "metadata": {
        "collapsed": false
      },
      "outputs": [],
      "source": [
        "from museotoolbox.learnTools import learnAndPredict\nfrom museotoolbox import crossValidation\nfrom museotoolbox import datasets\nfrom sklearn.ensemble import RandomForestClassifier\nfrom sklearn.model_selection import StratifiedKFold"
      ]
    },
    {
      "cell_type": "markdown",
      "metadata": {},
      "source": [
        "Load HistoricalMap dataset\n-------------------------------------------\n\n"
      ]
    },
    {
      "cell_type": "code",
      "execution_count": null,
      "metadata": {
        "collapsed": false
      },
      "outputs": [],
      "source": [
        "raster,vector = datasets.getHistoricalMap()\nfield = 'Class'\ngroup = 'uniquefid'"
      ]
    },
    {
      "cell_type": "markdown",
      "metadata": {},
      "source": [
        "Initialize Random-Forest\n---------------------------\n\n"
      ]
    },
    {
      "cell_type": "code",
      "execution_count": null,
      "metadata": {
        "collapsed": false
      },
      "outputs": [],
      "source": [
        "classifier = RandomForestClassifier(random_state=12)"
      ]
    },
    {
      "cell_type": "markdown",
      "metadata": {},
      "source": [
        "Create list of different CV\n---------------------------\n\n"
      ]
    },
    {
      "cell_type": "code",
      "execution_count": null,
      "metadata": {
        "collapsed": false
      },
      "outputs": [],
      "source": [
        "CVs = [crossValidation.RandomCV(),\n       crossValidation.LeavePSubGroupOut(),\n       crossValidation.LeaveOneSubGroupOut(),\n       StratifiedKFold() #from sklearn\n       ]\n\nkappas=[]\n\nLAP = learnAndPredict()\n\nfor cv in CVs : \n        \n    LAP.learnFromRaster(raster,vector,inField=field,inGroup=group,cv=cv,\n                        classifier=classifier,param_grid=dict(n_estimators=[100,200]))\n    print('Kappa for '+str(type(cv).__name__))\n    cvKappa = []\n    \n    for stats in LAP.getStatsFromCV(confusionMatrix=False,kappa=True):\n        print(stats['kappa'])\n        cvKappa.append(stats['kappa'])\n    \n    kappas.append(cvKappa)\n    \n    print(20*'=')"
      ]
    },
    {
      "cell_type": "markdown",
      "metadata": {},
      "source": [
        "Plot example\n\n"
      ]
    },
    {
      "cell_type": "code",
      "execution_count": null,
      "metadata": {
        "collapsed": false
      },
      "outputs": [],
      "source": [
        "from matplotlib import pyplot as plt\nplt.title('Kappa according to Cross-validation methods')\nplt.boxplot(kappas,labels=[str(type(i).__name__) for i in CVs], patch_artist=True)\nplt.grid()\nplt.ylabel('Kappa')\nplt.xticks(rotation=15)\nplt.show()"
      ]
    }
  ],
  "metadata": {
    "kernelspec": {
      "display_name": "Python 3",
      "language": "python",
      "name": "python3"
    },
    "language_info": {
      "codemirror_mode": {
        "name": "ipython",
        "version": 3
      },
      "file_extension": ".py",
      "mimetype": "text/x-python",
      "name": "python",
      "nbconvert_exporter": "python",
      "pygments_lexer": "ipython3",
      "version": "3.6.7"
    }
  },
  "nbformat": 4,
  "nbformat_minor": 0
}