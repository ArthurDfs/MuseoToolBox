{
  "cells": [
    {
      "cell_type": "code",
      "execution_count": null,
      "metadata": {
        "collapsed": false
      },
      "outputs": [],
      "source": [
        "%matplotlib inline"
      ]
    },
    {
      "cell_type": "markdown",
      "metadata": {},
      "source": [
        "\nrasterMath with custom block size, mask, and in 3 dimensions\n===================================================================\n\nTips to use rasterMath by defining its block size and to receive\na full block (not a array with one pixel per row.)\n\nTips : A function readBlockPerBlock() yields each block, without saving results\nto a new raster.\n\n\n"
      ]
    },
    {
      "cell_type": "markdown",
      "metadata": {},
      "source": [
        "Import librairies\n-------------------------------------------\n\n"
      ]
    },
    {
      "cell_type": "code",
      "execution_count": null,
      "metadata": {
        "collapsed": false
      },
      "outputs": [],
      "source": [
        "from museotoolbox.processing import RasterMath,image_mask_from_vector\nfrom museotoolbox import datasets\nfrom matplotlib import pyplot as plt\nimport numpy as np"
      ]
    },
    {
      "cell_type": "markdown",
      "metadata": {},
      "source": [
        "Load HistoricalMap dataset\n-------------------------------------------\n\n"
      ]
    },
    {
      "cell_type": "code",
      "execution_count": null,
      "metadata": {
        "collapsed": false
      },
      "outputs": [],
      "source": [
        "raster,vector = datasets.load_historical_data()"
      ]
    },
    {
      "cell_type": "markdown",
      "metadata": {},
      "source": [
        "Initialize rasterMath with raster\n------------------------------------\n\n"
      ]
    },
    {
      "cell_type": "code",
      "execution_count": null,
      "metadata": {
        "collapsed": false
      },
      "outputs": [],
      "source": [
        "# Set return_3d to True to have full block size (not one pixel per row)\n# Create raster mask to only keep pixel inside polygons.\n\nimage_mask_from_vector(vector,raster,'/tmp/mask.tif',invert=False)\n\nrM = RasterMath(raster,in_image_mask='/tmp/mask.tif',return_3d=True)\n#rM.addInputRaster('/tmp/mask.tif')\nprint(rM.get_random_block().shape)"
      ]
    },
    {
      "cell_type": "markdown",
      "metadata": {},
      "source": [
        "Plot blocks\n\n"
      ]
    },
    {
      "cell_type": "code",
      "execution_count": null,
      "metadata": {
        "collapsed": false
      },
      "outputs": [],
      "source": [
        "x = rM.get_random_block()\n\nrM.add_function(np.mean,'/tmp/mean.tif',axis=2,out_np_dt=np.int16)\n\nrM.run()\n\nfrom osgeo import gdal\ndst = gdal.Open('/tmp/mean.tif')\narr = dst.GetRasterBand(1).ReadAsArray()\nplt.imshow(np.ma.masked_where(arr == rM.outputNoData[0], arr))"
      ]
    }
  ],
  "metadata": {
    "kernelspec": {
      "display_name": "Python 3",
      "language": "python",
      "name": "python3"
    },
    "language_info": {
      "codemirror_mode": {
        "name": "ipython",
        "version": 3
      },
      "file_extension": ".py",
      "mimetype": "text/x-python",
      "name": "python",
      "nbconvert_exporter": "python",
      "pygments_lexer": "ipython3",
      "version": "3.6.9"
    }
  },
  "nbformat": 4,
  "nbformat_minor": 0
}