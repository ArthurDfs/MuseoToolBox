{
  "cells": [
    {
      "cell_type": "code",
      "execution_count": null,
      "metadata": {
        "collapsed": false
      },
      "outputs": [],
      "source": [
        "%matplotlib inline"
      ]
    },
    {
      "cell_type": "markdown",
      "metadata": {},
      "source": [
        "\nUsing rasterMath with 3d block or 2d block\n==================================================================\n\nTest notebook to validate code.\n\n"
      ]
    },
    {
      "cell_type": "markdown",
      "metadata": {},
      "source": [
        "Import librairies\n-------------------------------------------\n\n"
      ]
    },
    {
      "cell_type": "code",
      "execution_count": null,
      "metadata": {
        "collapsed": false
      },
      "outputs": [],
      "source": [
        "from museotoolbox.processing import RasterMath,image_mask_from_vector\nfrom museotoolbox import datasets\nfrom matplotlib import pyplot as plt\nimport numpy as np"
      ]
    },
    {
      "cell_type": "markdown",
      "metadata": {},
      "source": [
        "Load HistoricalMap dataset\n-------------------------------------------\n\n"
      ]
    },
    {
      "cell_type": "code",
      "execution_count": null,
      "metadata": {
        "collapsed": false
      },
      "outputs": [],
      "source": [
        "raster,vector = datasets.load_historical_data()"
      ]
    },
    {
      "cell_type": "markdown",
      "metadata": {},
      "source": [
        "Initialize rasterMath with raster\n------------------------------------\n\n"
      ]
    },
    {
      "cell_type": "code",
      "execution_count": null,
      "metadata": {
        "collapsed": false
      },
      "outputs": [],
      "source": [
        "# Set return_3d to True to have full block size (not one pixel per row)\n# Create raster mask to only keep pixel inside polygons.\n\nimage_mask_from_vector(vector,raster,'/tmp/mask.tif',invert=False)\n\nfor return_3d in [True,False]:\n    rM = RasterMath(raster,in_image_mask='/tmp/mask.tif',return_3d=return_3d)\n    \n    rM.custom_block_size(128,128) # block of 200x200pixels\n    \n    print(rM.get_random_block().shape)\n    \n    x = rM.get_random_block()\n    \n    # Returns with only 1 dimension\n    returnFlatten = lambda x : x[...,0]\n    \n    # Returns 3x the original last dimension\n    addOneBand = lambda x : np.repeat(x,3,axis=x.ndim-1)\n    \n    # Add functions to rasterMath\n    rM.add_function(addOneBand,'/tmp/x_repeat_{}.tif'.format(str(return_3d)))\n    rM.add_function(returnFlatten,'/tmp/x_flatten_{}.tif'.format(str(return_3d)))\n    \n    rM.run()\n    \nfrom osgeo import gdal\ndst = gdal.Open('/tmp/x_flatten_False.tif')\narr = dst.GetRasterBand(1).ReadAsArray()\nplt.imshow(np.ma.masked_where(arr == np.min(arr), arr))"
      ]
    }
  ],
  "metadata": {
    "kernelspec": {
      "display_name": "Python 3",
      "language": "python",
      "name": "python3"
    },
    "language_info": {
      "codemirror_mode": {
        "name": "ipython",
        "version": 3
      },
      "file_extension": ".py",
      "mimetype": "text/x-python",
      "name": "python",
      "nbconvert_exporter": "python",
      "pygments_lexer": "ipython3",
      "version": "3.6.9"
    }
  },
  "nbformat": 4,
  "nbformat_minor": 0
}