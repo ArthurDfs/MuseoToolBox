{
  "cells": [
    {
      "cell_type": "code",
      "execution_count": null,
      "metadata": {
        "collapsed": false
      },
      "outputs": [],
      "source": [
        "%matplotlib inline"
      ]
    },
    {
      "cell_type": "markdown",
      "metadata": {},
      "source": [
        "\nTests rasterMath with full block or stacken and custom block size\n==================================================================\n\nTest notebook in order to validate code.\n\n\n"
      ]
    },
    {
      "cell_type": "markdown",
      "metadata": {},
      "source": [
        "Import librairies\n-------------------------------------------\n\n"
      ]
    },
    {
      "cell_type": "code",
      "execution_count": null,
      "metadata": {
        "collapsed": false
      },
      "outputs": [],
      "source": [
        "from museotoolbox.raster_tools import rasterMath,rasterMaskFromVector\nfrom museotoolbox import datasets\nfrom matplotlib import pyplot as plt\nimport numpy as np"
      ]
    },
    {
      "cell_type": "markdown",
      "metadata": {},
      "source": [
        "Load HistoricalMap dataset\n-------------------------------------------\n\n"
      ]
    },
    {
      "cell_type": "code",
      "execution_count": null,
      "metadata": {
        "collapsed": false
      },
      "outputs": [],
      "source": [
        "raster,vector = datasets.historicalMap()"
      ]
    },
    {
      "cell_type": "markdown",
      "metadata": {},
      "source": [
        "Initialize rasterMath with raster\n------------------------------------\n\n"
      ]
    },
    {
      "cell_type": "code",
      "execution_count": null,
      "metadata": {
        "collapsed": false
      },
      "outputs": [],
      "source": [
        "# Set return_3d to True to have full block size (not one pixel per row)\n# Create raster mask to only keep pixel inside polygons.\n\nrasterMaskFromVector(vector,raster,'/tmp/mask.tif',invert=False)\n\nfor return_3d in [True,False]:\n    rM = rasterMath(raster,inMaskRaster='/tmp/mask.tif',return_3d=return_3d)\n    \n    rM.customBlockSize(200,200) # block of 200x200pixels\n    \n    print(rM.getRandomBlock().shape)\n    \n    x = rM.getRandomBlock()\n    \n    # Returns with only 1 dimension\n    returnFlatten = lambda x : x[...,0]\n    \n    # Returns 3x the original last dimension\n    addOneBand = lambda x : np.repeat(x,3,axis=x.ndim-1)\n    \n    # Add functions to rasterMath\n    rM.addFunction(addOneBand,'/tmp/x_repeat_{}.tif'.format(str(return_3d)))\n    rM.addFunction(returnFlatten,'/tmp/x_flatten_{}.tif'.format(str(return_3d)))\n    \n    rM.run()\n    \nimport gdal\ndst = gdal.Open('/tmp/x_flatten_False.tif')\narr = dst.GetRasterBand(1).ReadAsArray()\nplt.imshow(np.ma.masked_where(arr == np.min(arr), arr))"
      ]
    }
  ],
  "metadata": {
    "kernelspec": {
      "display_name": "Python 3",
      "language": "python",
      "name": "python3"
    },
    "language_info": {
      "codemirror_mode": {
        "name": "ipython",
        "version": 3
      },
      "file_extension": ".py",
      "mimetype": "text/x-python",
      "name": "python",
      "nbconvert_exporter": "python",
      "pygments_lexer": "ipython3",
      "version": "3.6.7"
    }
  },
  "nbformat": 4,
  "nbformat_minor": 0
}