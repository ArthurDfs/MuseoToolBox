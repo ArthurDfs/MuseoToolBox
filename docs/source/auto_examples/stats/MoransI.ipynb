{
  "cells": [
    {
      "cell_type": "code",
      "execution_count": null,
      "metadata": {
        "collapsed": false
      },
      "outputs": [],
      "source": [
        "%matplotlib inline"
      ]
    },
    {
      "cell_type": "markdown",
      "metadata": {},
      "source": [
        "\nCompute Moran's I with different lags from raster\n===============================================================\n\nCompute Moran's I with different lags, support mask.\n\n\n"
      ]
    },
    {
      "cell_type": "markdown",
      "metadata": {},
      "source": [
        "Import librairies\n-------------------------------------------\n\n"
      ]
    },
    {
      "cell_type": "code",
      "execution_count": null,
      "metadata": {
        "collapsed": false
      },
      "outputs": [],
      "source": [
        "import numpy as np\nfrom museotoolbox.stats import Moran\nfrom matplotlib import pyplot as plt\nfrom osgeo import gdal,osr"
      ]
    },
    {
      "cell_type": "markdown",
      "metadata": {},
      "source": [
        "Load HistoricalMap dataset\n-------------------------------------------\n\n"
      ]
    },
    {
      "cell_type": "code",
      "execution_count": null,
      "metadata": {
        "collapsed": false
      },
      "outputs": [],
      "source": [
        "raster = '/tmp/autocorrelated_moran.tif'\nmask = '/tmp/mask.tif'\ndef create_false_image(array,path):\n    # from https://pcjericks.github.io/py-gdalogr-cookbook/raster_layers.html\n    driver = gdal.GetDriverByName('GTiff')\n    outRaster = driver.Create(path, array.shape[1], array.shape[0], 1, gdal.GDT_Byte)\n    outRaster.SetGeoTransform((0, 10, 0, 0, 0, 10))\n    outband = outRaster.GetRasterBand(1)\n    outband.WriteArray(array)\n    outRasterSRS = osr.SpatialReference()\n    outRasterSRS.ImportFromEPSG(4326)\n    outRaster.SetProjection(outRasterSRS.ExportToWkt())\n    outband.FlushCache()\n\n# create autocorrelated tif\nx = np.zeros((100,100),dtype=int)\n# max autocorr\nx[:50,:] = 1\ncreate_false_image(x,raster)\nx_mask = np.random.randint(0,2,[100,100])\ncreate_false_image(x_mask,mask)\n\nplt.imshow(x,cmap='gray', aspect='equal',interpolation='none')\nplt.imshow(x_mask,cmap='gray', aspect='equal',interpolation='none')"
      ]
    },
    {
      "cell_type": "markdown",
      "metadata": {},
      "source": [
        "Compute Moran's I for lag 1\n\n"
      ]
    },
    {
      "cell_type": "code",
      "execution_count": null,
      "metadata": {
        "collapsed": false
      },
      "outputs": [],
      "source": [
        "lags =  [1,3,5]\n\nMoransI = Moran(raster,lag=lags,in_image_mask=mask)\nprint(MoransI.scores)"
      ]
    },
    {
      "cell_type": "markdown",
      "metadata": {},
      "source": [
        "Plot result\n-----------------------------------\n\n"
      ]
    },
    {
      "cell_type": "code",
      "execution_count": null,
      "metadata": {
        "collapsed": false
      },
      "outputs": [],
      "source": [
        "from matplotlib import pyplot as plt \nplt.title('Evolution of Moran\\'s I')\nplt.plot(MoransI.scores['lag'],MoransI.scores['I'],'-o')\nplt.xlabel('Spatial lag')\nplt.xticks(lags)\nplt.ylabel('Moran\\'s I')"
      ]
    }
  ],
  "metadata": {
    "kernelspec": {
      "display_name": "Python 3",
      "language": "python",
      "name": "python3"
    },
    "language_info": {
      "codemirror_mode": {
        "name": "ipython",
        "version": 3
      },
      "file_extension": ".py",
      "mimetype": "text/x-python",
      "name": "python",
      "nbconvert_exporter": "python",
      "pygments_lexer": "ipython3",
      "version": "3.6.9"
    }
  },
  "nbformat": 4,
  "nbformat_minor": 0
}