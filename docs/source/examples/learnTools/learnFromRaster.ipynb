{
 "cells": [
  {
   "cell_type": "markdown",
   "metadata": {},
   "source": [
    "# Learn from raster and compare spatial Cross-Validation with a simple random selection per class\n",
    "\n"
   ]
  },
  {
   "cell_type": "code",
   "execution_count": 1,
   "metadata": {},
   "outputs": [],
   "source": [
    "from MuseoToolBox import learnAndPredict\n",
    "from MuseoToolBox import vectorTools\n",
    "import numpy as np"
   ]
  },
  {
   "cell_type": "markdown",
   "metadata": {},
   "source": [
    "## Select an algorithm from sklearn\n",
    "Here we select RandomForestClassifier from sklearn.ensemble\n",
    "We define the param_grid for the Cross-Validation according to the [parameters of RandomForestClassifier](http://scikit-learn.org/stable/modules/generated/sklearn.ensemble.RandomForestClassifier.html)."
   ]
  },
  {
   "cell_type": "code",
   "execution_count": 2,
   "metadata": {},
   "outputs": [],
   "source": [
    "from sklearn.ensemble import RandomForestClassifier\n",
    "param_grid = dict(n_estimators=[10,100],max_features=[1,3])"
   ]
  },
  {
   "cell_type": "markdown",
   "metadata": {},
   "source": [
    "## Define the variables"
   ]
  },
  {
   "cell_type": "code",
   "execution_count": 3,
   "metadata": {},
   "outputs": [],
   "source": [
    "inRaster = '../data/map.tif'\n",
    "inVector = '../data/train_withROI.gpkg'\n",
    "inField = 'Class'\n",
    "inStand = 'uniqueFID'"
   ]
  },
  {
   "cell_type": "markdown",
   "metadata": {},
   "source": [
    "## Setup the Cross-Validation"
   ]
  },
  {
   "cell_type": "code",
   "execution_count": 4,
   "metadata": {},
   "outputs": [],
   "source": [
    "# define Stand Cross-Validation\n",
    "standMethod = vectorTools.samplingMethods.standCV(inStand,SLOO=False,maxIter=5,seed=12)\n",
    "standCV = vectorTools.sampleSelection(inVector,inField,standMethod).getCrossValidationForScikitLearn()\n",
    "\n",
    "# define Random Cross-Validation\n",
    "randomMethod = vectorTools.samplingMethods.randomCV(nIter=5,seed=12)\n",
    "randomCV = vectorTools.sampleSelection(inVector,inField,randomMethod).getCrossValidationForScikitLearn()"
   ]
  },
  {
   "cell_type": "markdown",
   "metadata": {},
   "source": [
    "## Setup learnAndPredict\n",
    "With the algorithm (and its parameters, such as *oob_score=True* if you want to be able to save it)."
   ]
  },
  {
   "cell_type": "code",
   "execution_count": 5,
   "metadata": {},
   "outputs": [],
   "source": [
    "# initialize learning\n",
    "\n",
    "model = learnAndPredict()"
   ]
  },
  {
   "cell_type": "markdown",
   "metadata": {},
   "source": [
    "## Train and compare performances between CV"
   ]
  },
  {
   "cell_type": "code",
   "execution_count": 6,
   "metadata": {},
   "outputs": [
    {
     "name": "stdout",
     "output_type": "stream",
     "text": [
      "Values from 'Class' field will be extracted\n",
      "Reading raster values...  [########################################]100%\n",
      "best n_estimators : 100\n",
      "best max_features : 1\n",
      "Kappa : 0.781454876227 | OA : 0.886395100055\n",
      "Kappa : 0.900845870156 | OA : 0.936419673262\n",
      "Kappa : 0.748293156879 | OA : 0.862282410608\n",
      "Kappa : 0.851420455035 | OA : 0.907166009019\n",
      "Kappa : 0.797427893782 | OA : 0.873121520365\n",
      "Mean kappa for 5 iter using standCV CV is : 81.59% (+-5.4)\n",
      "========================================\n",
      "Values from 'Class' field will be extracted\n",
      "Reading raster values...  [########################################]100%\n",
      "best n_estimators : 100\n",
      "best max_features : 1\n",
      "Kappa : 0.946601014013 | OA : 0.969276077526\n",
      "Kappa : 0.948277928181 | OA : 0.970231225375\n",
      "Kappa : 0.945229938517 | OA : 0.968440323158\n",
      "Kappa : 0.946558075988 | OA : 0.969236279699\n",
      "Kappa : 0.949580476913 | OA : 0.970907788435\n",
      "Mean kappa for 5 iter using randomPerClass CV is : 94.72% (+-0.15)\n",
      "========================================\n"
     ]
    }
   ],
   "source": [
    "for cv in [standCV,randomCV]:  \n",
    "    model.learnFromRaster(inRaster,inVector,inField,\\\n",
    "                          classifier=RandomForestClassifier(),param_grid=param_grid,cv=cv)\n",
    "    \n",
    "    matrix,kappa,OA=model.getStatsFromCV(kappa=True,OA=True)\n",
    "    \n",
    "    for idx,mtrx in enumerate(matrix):\n",
    "        print('Kappa : '+str(kappa[idx])+' | OA : '+str(OA[idx]))\n",
    "        #print(mtrx)\n",
    "    \n",
    "    meanKappa = round(np.mean(kappa)*100,2)\n",
    "    stdKappa = round(np.std(kappa)*100,2)\n",
    "    print('Mean kappa for 5 iter using {} CV is : {}% (+-{})'.format(cv.name,meanKappa,stdKappa))\n",
    "    print(40*\"=\")\n"
   ]
  },
  {
   "cell_type": "markdown",
   "metadata": {},
   "source": [
    "# Predict a raster\n",
    "When predicting you have the possibility to save the confidence per class, or the maximum confidence from all the class (which will be the predicted class)."
   ]
  },
  {
   "cell_type": "code",
   "execution_count": 7,
   "metadata": {},
   "outputs": [
    {
     "name": "stdout",
     "output_type": "stream",
     "text": [
      "Prediction...  [########################################]100%\n",
      "Saved /tmp/predict.tif using function predictFromArray\n",
      "Saved /tmp/predictProbaPerClass.tif using function predictConfidencePerClassFromArray\n",
      "Saved /tmp/predictProba.tif using function predictConfidenceOfPredictedClassFromArray\n"
     ]
    }
   ],
   "source": [
    "model.predictFromRaster(inRaster,outRaster='/tmp/predict.tif',\\\n",
    "                        outConfidence='/tmp/predictProba.tif',\\\n",
    "                        outConfidencePerClass='/tmp/predictProbaPerClass.tif')"
   ]
  },
  {
   "cell_type": "markdown",
   "metadata": {},
   "source": [
    "# Predict an array\n",
    "You also have the choice to predict labels from an array (which has the same number of bands as your raster/original X)."
   ]
  },
  {
   "cell_type": "code",
   "execution_count": 8,
   "metadata": {},
   "outputs": [
    {
     "name": "stdout",
     "output_type": "stream",
     "text": [
      "[1 1 1 1 1 1 1 1 1 1 1 1 1 1 1 1 1 1 1 2 1 1 1 1 1 1 1 1 1 1 1 1 1 1 1 1 1\n",
      " 1 1 1 1 1 1 1 1 1 1 1 1 1]\n",
      "[ 100.  100.  100. ...,   79.  100.  100.]\n"
     ]
    }
   ],
   "source": [
    "Y,X = vectorTools.readValuesFromVector(inVector,inField,bandPrefix='band_')\n",
    "Xpred = model.predictFromArray(X[50:100,:])\n",
    "print(Xpred)\n",
    "Xconfidence = model.predictConfidenceOfPredictedClassFromArray(X[50:100,:])\n",
    "print(Xconfidence)"
   ]
  }
 ],
 "metadata": {
  "kernelspec": {
   "display_name": "Python 3",
   "language": "python",
   "name": "python3"
  },
  "language_info": {
   "codemirror_mode": {
    "name": "ipython",
    "version": 3
   },
   "file_extension": ".py",
   "mimetype": "text/x-python",
   "name": "python",
   "nbconvert_exporter": "python",
   "pygments_lexer": "ipython3",
   "version": "3.6.6"
  }
 },
 "nbformat": 4,
 "nbformat_minor": 2
}
