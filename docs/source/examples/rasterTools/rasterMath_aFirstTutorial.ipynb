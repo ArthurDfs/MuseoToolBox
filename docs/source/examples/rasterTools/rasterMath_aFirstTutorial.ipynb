{
 "cells": [
  {
   "cell_type": "markdown",
   "metadata": {},
   "source": [
    "# rasterMath, a new way to use your images\n",
    "\n",
    "rasterMath is a tool to let the user do the minimum thing to work pixel by pixel on a image. rastermath will take care of loading the image block by block, sending you only the unmasked data, and saving your processing in the file of your choice. You just need to define the function of your choice."
   ]
  },
  {
   "cell_type": "code",
   "execution_count": 1,
   "metadata": {},
   "outputs": [],
   "source": [
    "from MuseoToolBox.rasterTools import rasterMath,convertGdalAndNumpyDataType\n",
    "inRaster = '../data/map.tif'"
   ]
  },
  {
   "cell_type": "markdown",
   "metadata": {},
   "source": [
    "## Load raster Math with the image"
   ]
  },
  {
   "cell_type": "code",
   "execution_count": 2,
   "metadata": {},
   "outputs": [],
   "source": [
    "rM = rasterMath(inRaster)"
   ]
  },
  {
   "cell_type": "markdown",
   "metadata": {},
   "source": [
    "## Extract a random block from rasterMath\n",
    "\n",
    "By extracting a random block from rasterMath, you will be able to test your homemade function and be sure it will work when parsing the full raster."
   ]
  },
  {
   "cell_type": "code",
   "execution_count": 3,
   "metadata": {},
   "outputs": [],
   "source": [
    "randomBlock = rM.getRandomBlock()"
   ]
  },
  {
   "cell_type": "code",
   "execution_count": 4,
   "metadata": {},
   "outputs": [
    {
     "name": "stdout",
     "output_type": "stream",
     "text": [
      "(2098, 3)\n",
      "[[ 209.  186.  156.]\n",
      " [ 206.  184.  149.]\n",
      " [ 209.  188.  153.]\n",
      " [ 198.  180.  149.]\n",
      " [ 166.  146.  113.]]\n"
     ]
    }
   ],
   "source": [
    "print(randomBlock.shape)\n",
    "print(randomBlock[:5,:])"
   ]
  },
  {
   "cell_type": "markdown",
   "metadata": {},
   "source": [
    "## Create a function"
   ]
  },
  {
   "cell_type": "code",
   "execution_count": 5,
   "metadata": {},
   "outputs": [],
   "source": [
    "import numpy as np\n",
    "def computeMedian(randomBlock):\n",
    "    medianArr = np.median(randomBlock,axis=1).astype(np.int16)\n",
    "    return medianArr"
   ]
  },
  {
   "cell_type": "code",
   "execution_count": 6,
   "metadata": {},
   "outputs": [
    {
     "data": {
      "text/plain": [
       "array([186, 184, 188, ...,  91, 107, 153], dtype=int16)"
      ]
     },
     "execution_count": 6,
     "metadata": {},
     "output_type": "execute_result"
    }
   ],
   "source": [
    "computeMedian(randomBlock)"
   ]
  },
  {
   "cell_type": "markdown",
   "metadata": {},
   "source": [
    "Once your function is defined and do what you want, just add it with addFunction().\n",
    "\n",
    "But before, you can define your gdal datatype. By default rasterMath will proceed this may (if you let outGdalDT as False) :"
   ]
  },
  {
   "cell_type": "code",
   "execution_count": 7,
   "metadata": {},
   "outputs": [
    {
     "name": "stdout",
     "output_type": "stream",
     "text": [
      "numpy datatype : int16\n",
      "gdal datatype : 3\n"
     ]
    }
   ],
   "source": [
    "print('numpy datatype : '+computeMedian(randomBlock).dtype.name)\n",
    "dataType = convertGdalAndNumpyDataType(numpyDT=computeMedian(randomBlock).dtype.name)\n",
    "print('gdal datatype : '+str(dataType))"
   ]
  },
  {
   "cell_type": "markdown",
   "metadata": {},
   "source": [
    "You can also define the number of bands. By default, rasterMath will proceed this way :"
   ]
  },
  {
   "cell_type": "code",
   "execution_count": 8,
   "metadata": {},
   "outputs": [
    {
     "name": "stdout",
     "output_type": "stream",
     "text": [
      "1\n"
     ]
    }
   ],
   "source": [
    "medianArr = computeMedian(randomBlock)\n",
    "if medianArr.ndim > 1:\n",
    "    outNBand = medianArr.shape[1]\n",
    "else:\n",
    "    outNBand = 1\n",
    "print(outNBand)                "
   ]
  },
  {
   "cell_type": "markdown",
   "metadata": {},
   "source": [
    "### Add your function to rM"
   ]
  },
  {
   "cell_type": "code",
   "execution_count": 9,
   "metadata": {},
   "outputs": [
    {
     "name": "stdout",
     "output_type": "stream",
     "text": [
      "Using datatype from numpy table : int16\n"
     ]
    }
   ],
   "source": [
    "rM.addFunction(computeMedian,'/tmp/median.tif',outNBand =False,outGdalDT=False,outNoData=0)"
   ]
  },
  {
   "cell_type": "markdown",
   "metadata": {},
   "source": [
    "## Just run rasterMath"
   ]
  },
  {
   "cell_type": "code",
   "execution_count": 10,
   "metadata": {},
   "outputs": [
    {
     "name": "stdout",
     "output_type": "stream",
     "text": [
      "rasterMath...  [########################################]100%\n",
      "Saved /tmp/median.tif using function computeMedian\n"
     ]
    }
   ],
   "source": [
    "rM.run()"
   ]
  }
 ],
 "metadata": {
  "kernelspec": {
   "display_name": "Python 3",
   "language": "python",
   "name": "python3"
  },
  "language_info": {
   "codemirror_mode": {
    "name": "ipython",
    "version": 3
   },
   "file_extension": ".py",
   "mimetype": "text/x-python",
   "name": "python",
   "nbconvert_exporter": "python",
   "pygments_lexer": "ipython3",
   "version": "3.6.7"
  }
 },
 "nbformat": 4,
 "nbformat_minor": 2
}
