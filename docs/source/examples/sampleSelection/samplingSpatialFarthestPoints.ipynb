{
 "cells": [
  {
   "cell_type": "markdown",
   "metadata": {},
   "source": [
    "# Generate Cross-Validation with farthest points"
   ]
  },
  {
   "cell_type": "code",
   "execution_count": 1,
   "metadata": {},
   "outputs": [],
   "source": [
    "from MuseoToolBox.vectorTools import getDistanceMatrixForDistanceCV\n",
    "from MuseoToolBox import crossValidationTools\n",
    "import os \n",
    "\n",
    "inRaster = '../data/map_lowres.tif'\n",
    "inVector = '../data/train_withROI.gpkg'\n",
    "inField = 'Class'\n"
   ]
  },
  {
   "cell_type": "markdown",
   "metadata": {},
   "source": [
    "## Select a sampling method\n",
    "In crossValidationSelection, a class samplingMethods contains a function for each method.\n",
    "\n",
    "Here we choose the farthestCV to generate a Cross-Validation using a random pixel for validation then take the X% farthest points from this point. The rest will be add with the validation."
   ]
  },
  {
   "cell_type": "markdown",
   "metadata": {},
   "source": [
    "### Compute distance matrix"
   ]
  },
  {
   "cell_type": "code",
   "execution_count": 2,
   "metadata": {
    "scrolled": true
   },
   "outputs": [
    {
     "name": "stdout",
     "output_type": "stream",
     "text": [
      "Values from 'False' field will be extracted\n",
      "Reading raster values...  [###################.....................]49%\r"
     ]
    }
   ],
   "source": [
    "distanceMatrix = getDistanceMatrixForDistanceCV(inRaster,inVector)"
   ]
  },
  {
   "cell_type": "markdown",
   "metadata": {},
   "source": [
    "Choose a samplingMethod and add it to sampleSelection"
   ]
  },
  {
   "cell_type": "code",
   "execution_count": 3,
   "metadata": {},
   "outputs": [
    {
     "name": "stdout",
     "output_type": "stream",
     "text": [
      "Values from 'Class' field will be extracted\n",
      "Reading raster values...  [###################.....................]49%\r"
     ]
    }
   ],
   "source": [
    "#distanceThresold is 100 pixels here\n",
    "LPSO = crossValidationTools.LeavePSideOut(inRaster,inVector,inField,\\\n",
    "                            distanceMatrix=distanceMatrix,n_splits=5,minTrain=0.5,seed=12)"
   ]
  },
  {
   "cell_type": "markdown",
   "metadata": {},
   "source": [
    "Now the crossValidation is ready to compute. You have two choices : \n",
    "### Generate the Cross-Validation for Scikit-Learn"
   ]
  },
  {
   "cell_type": "code",
   "execution_count": 4,
   "metadata": {
    "scrolled": true
   },
   "outputs": [
    {
     "name": "stdout",
     "output_type": "stream",
     "text": [
      "Number of iteration : 5\n",
      "Number of samples for train / validation : \n",
      "5 12642\n",
      "5 12642\n",
      "5 12642\n",
      "5 12642\n",
      "5 12642\n"
     ]
    }
   ],
   "source": [
    "CV = LPSO.split()\n",
    "print('Number of iteration : '+str(CV.n_splits))\n",
    "print('Number of samples for train / validation : ')\n",
    "for tr,vl in CV:\n",
    "    print(tr.shape[0],vl.shape[0])"
   ]
  },
  {
   "cell_type": "markdown",
   "metadata": {},
   "source": [
    "### Save the Cross-Validation in as many as files as training/validation iteration.\n",
    "\n",
    "As Cross-Validation are generated on demand, you have to reinitialize the process and please **make sure to have defined a seed** to have exactly the same CV."
   ]
  },
  {
   "cell_type": "code",
   "execution_count": 5,
   "metadata": {},
   "outputs": [
    {
     "name": "stdout",
     "output_type": "stream",
     "text": [
      "Values from 'Class' field will be extracted\n",
      "../data/cv_train_0.sqlite ../data/cv_valid_0.sqlite................]49%\n",
      "../data/cv_train_1.sqlite ../data/cv_valid_1.sqlite\n",
      "../data/cv_train_2.sqlite ../data/cv_valid_2.sqlite\n",
      "../data/cv_train_3.sqlite ../data/cv_valid_3.sqlite\n",
      "../data/cv_train_4.sqlite ../data/cv_valid_4.sqlite\n"
     ]
    }
   ],
   "source": [
    "CV = LPSO.saveVectorFiles('../data/cv.sqlite')\n",
    "for tr,vl in CV:\n",
    "    print(tr,vl)"
   ]
  }
 ],
 "metadata": {
  "kernelspec": {
   "display_name": "Python 3",
   "language": "python",
   "name": "python3"
  },
  "language_info": {
   "codemirror_mode": {
    "name": "ipython",
    "version": 3
   },
   "file_extension": ".py",
   "mimetype": "text/x-python",
   "name": "python",
   "nbconvert_exporter": "python",
   "pygments_lexer": "ipython3",
   "version": "3.6.7"
  }
 },
 "nbformat": 4,
 "nbformat_minor": 2
}
