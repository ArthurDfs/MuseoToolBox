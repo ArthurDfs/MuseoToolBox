{
 "cells": [
  {
   "cell_type": "markdown",
   "metadata": {},
   "source": [
    "# Generate Cross-Validation with Spatial Leave-Half-Stand-Out (SLOSO)"
   ]
  },
  {
   "cell_type": "code",
   "execution_count": 1,
   "metadata": {},
   "outputs": [],
   "source": [
    "from MuseoToolBox.vectorTools import crossValidationSelection\n",
    "\n",
    "inVector = '../data/train.gpkg'\n",
    "levelField = 'Class'\n",
    "standField = 'uniqueFID'"
   ]
  },
  {
   "cell_type": "markdown",
   "metadata": {},
   "source": [
    "## Select a sampling Method\n",
    "In crossValidationSelection, a class samplingMethods contains a function for each method.\n",
    "Here we choose the standCV to generate a Cross-Validation by stand (or by group/polygon).\n",
    "standCV allows you to SLOO (to keep just one stand/polygon for the validation), or leave False to use 50% of stands for training and 50% for validation."
   ]
  },
  {
   "cell_type": "code",
   "execution_count": 2,
   "metadata": {},
   "outputs": [],
   "source": [
    "samplingMethod = crossValidationSelection.samplingMethods.standCV(standField,SLOO=False,maxIter=3,seed=12)\n",
    "crossValidation = crossValidationSelection.sampleSelection(inVector,levelField,samplingMethod)"
   ]
  },
  {
   "cell_type": "markdown",
   "metadata": {},
   "source": [
    "Now the crossValidation is ready to compute. You have two choices : \n",
    "### Generate the Cross-Validation for Scikit-Learn"
   ]
  },
  {
   "cell_type": "code",
   "execution_count": 3,
   "metadata": {
    "scrolled": true
   },
   "outputs": [
    {
     "name": "stdout",
     "output_type": "stream",
     "text": [
      "[ 0  1  7  4  5 14 10 11]\n",
      "[ 2  3  8  6  9 15 16 12 13]\n",
      "[ 1  3  7  5  9 15 12 13]\n",
      "[ 0  2  8  4  6 14 16 10 11]\n",
      "[ 1  2  8  5  6 15 10 11]\n",
      "[ 0  3  7  4  9 14 16 12 13]\n"
     ]
    }
   ],
   "source": [
    "CV = crossValidation.getCrossValidationForScikitLearn()\n",
    "# print each idx\n",
    "for tr,vl in CV:\n",
    "    print(tr)\n",
    "    print(vl)"
   ]
  },
  {
   "cell_type": "markdown",
   "metadata": {},
   "source": [
    "### Save the Cross-Validation in as many as files as training/validation iteration.\n",
    "\n",
    "As Cross-Validation are generated on demand, you have to reinitialize the process and please make sure to have defined a seed to have exactly the same CV."
   ]
  },
  {
   "cell_type": "code",
   "execution_count": 4,
   "metadata": {},
   "outputs": [
    {
     "name": "stdout",
     "output_type": "stream",
     "text": [
      "../data/cv_train_0.sqlite ../data/cv_valid_0.sqlite\n",
      "../data/cv_train_1.sqlite ../data/cv_valid_1.sqlite\n",
      "../data/cv_train_2.sqlite ../data/cv_valid_2.sqlite\n"
     ]
    }
   ],
   "source": [
    "CV = crossValidation.saveVectorFiles('../data/cv.sqlite')\n",
    "for tr,vl in CV:\n",
    "    print(tr,vl)"
   ]
  }
 ],
 "metadata": {
  "kernelspec": {
   "display_name": "Python 3",
   "language": "python",
   "name": "python3"
  },
  "language_info": {
   "codemirror_mode": {
    "name": "ipython",
    "version": 3
   },
   "file_extension": ".py",
   "mimetype": "text/x-python",
   "name": "python",
   "nbconvert_exporter": "python",
   "pygments_lexer": "ipython3",
   "version": "3.6.6"
  }
 },
 "nbformat": 4,
 "nbformat_minor": 2
}
