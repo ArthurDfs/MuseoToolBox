{
 "cells": [
  {
   "cell_type": "markdown",
   "metadata": {},
   "source": [
    "# Generate Cross-Validation from array with Spatial Leave-Half-Stand-Out (SLOSO)"
   ]
  },
  {
   "cell_type": "code",
   "execution_count": 1,
   "metadata": {},
   "outputs": [],
   "source": [
    "from MuseoToolBox.vectorTools import crossValidationSelection\n",
    "\n",
    "inVector = '../data/train.gpkg'\n",
    "levelField = 'Class'\n",
    "standField = 'uniqueFID'"
   ]
  },
  {
   "cell_type": "markdown",
   "metadata": {},
   "source": [
    "## Load vector\n",
    "As we want to generate the Cross-Validation per class from array, we need to load the vector in python."
   ]
  },
  {
   "cell_type": "code",
   "execution_count": 2,
   "metadata": {},
   "outputs": [],
   "source": [
    "from MuseoToolBox.vectorTools import readValuesFromVector\n",
    "Y,S=readValuesFromVector(inVector,levelField,standField)"
   ]
  },
  {
   "cell_type": "markdown",
   "metadata": {},
   "source": [
    "## Select a sampling Method\n",
    "In crossValidationSelection, a class samplingMethods contains a function for each method.\n",
    "Here we choose the standCV to generate a Cross-Validation by stand (or by group/polygon).\n",
    "standCV allows you to SLOO (to keep just one stand/polygon for the validation), or leave False to use 50% of stands for training and 50% for validation."
   ]
  },
  {
   "cell_type": "code",
   "execution_count": 3,
   "metadata": {},
   "outputs": [],
   "source": [
    "samplingMethod = crossValidationSelection.samplingMethods.standCV(S,SLOO=False,maxIter=3,seed=12)\n",
    "crossValidation = crossValidationSelection.sampleSelection(Y,None,samplingMethod)"
   ]
  },
  {
   "cell_type": "markdown",
   "metadata": {},
   "source": [
    "Now the crossValidation is ready to compute. You have two choices : \n",
    "### Generate the Cross-Validation for Scikit-Learn"
   ]
  },
  {
   "cell_type": "code",
   "execution_count": 4,
   "metadata": {
    "scrolled": true
   },
   "outputs": [
    {
     "name": "stdout",
     "output_type": "stream",
     "text": [
      "[ 0  1  7  4  5 14 10 11]\n",
      "[ 2  3  8  6  9 15 16 12 13]\n",
      "[ 1  3  7  5  9 15 12 13]\n",
      "[ 0  2  8  4  6 14 16 10 11]\n",
      "[ 1  2  8  5  6 15 10 11]\n",
      "[ 0  3  7  4  9 14 16 12 13]\n"
     ]
    }
   ],
   "source": [
    "CV = crossValidation.getCrossValidationForScikitLearn()\n",
    "# print each idx\n",
    "for tr,vl in CV:\n",
    "    print(tr)\n",
    "    print(vl)"
   ]
  },
  {
   "cell_type": "markdown",
   "metadata": {},
   "source": [
    "### But... You can't save a vector from this CV\n",
    "\n",
    "As saving as vector need spatial reference, location and fields, you can't save a vector from this Cross-Validation. If you try you will have this error :"
   ]
  },
  {
   "cell_type": "code",
   "execution_count": 5,
   "metadata": {},
   "outputs": [
    {
     "ename": "Exception",
     "evalue": "To save vector files, you need to use in input a vector, not an array",
     "output_type": "error",
     "traceback": [
      "\u001b[0;31m---------------------------------------------------------------------------\u001b[0m",
      "\u001b[0;31mException\u001b[0m                                 Traceback (most recent call last)",
      "\u001b[0;32m<ipython-input-5-938a9ad33119>\u001b[0m in \u001b[0;36m<module>\u001b[0;34m()\u001b[0m\n\u001b[0;32m----> 1\u001b[0;31m \u001b[0mCV\u001b[0m \u001b[0;34m=\u001b[0m \u001b[0mcrossValidation\u001b[0m\u001b[0;34m.\u001b[0m\u001b[0msaveVectorFiles\u001b[0m\u001b[0;34m(\u001b[0m\u001b[0;34m'../data/cv.sqlite'\u001b[0m\u001b[0;34m)\u001b[0m\u001b[0;34m\u001b[0m\u001b[0m\n\u001b[0m\u001b[1;32m      2\u001b[0m \u001b[0;32mfor\u001b[0m \u001b[0mtr\u001b[0m\u001b[0;34m,\u001b[0m\u001b[0mvl\u001b[0m \u001b[0;32min\u001b[0m \u001b[0mCV\u001b[0m\u001b[0;34m:\u001b[0m\u001b[0;34m\u001b[0m\u001b[0m\n\u001b[1;32m      3\u001b[0m     \u001b[0mprint\u001b[0m\u001b[0;34m(\u001b[0m\u001b[0mtr\u001b[0m\u001b[0;34m,\u001b[0m\u001b[0mvl\u001b[0m\u001b[0;34m)\u001b[0m\u001b[0;34m\u001b[0m\u001b[0m\n",
      "\u001b[0;32m/home/nicolas/.local/lib/python3.6/site-packages/MuseoToolBox/vectorTools/crossValidationSelection.py\u001b[0m in \u001b[0;36msaveVectorFiles\u001b[0;34m(self, outVector)\u001b[0m\n\u001b[1;32m    280\u001b[0m         \u001b[0;32mif\u001b[0m \u001b[0mself\u001b[0m\u001b[0;34m.\u001b[0m\u001b[0minVectorIsArray\u001b[0m\u001b[0;34m:\u001b[0m\u001b[0;34m\u001b[0m\u001b[0m\n\u001b[1;32m    281\u001b[0m             raise Exception(\n\u001b[0;32m--> 282\u001b[0;31m                 'To save vector files, you need to use in input a vector, not an array')\n\u001b[0m\u001b[1;32m    283\u001b[0m         \u001b[0;32mif\u001b[0m \u001b[0mself\u001b[0m\u001b[0;34m.\u001b[0m\u001b[0msamplingType\u001b[0m \u001b[0;34m==\u001b[0m \u001b[0;34m'SLOO'\u001b[0m\u001b[0;34m:\u001b[0m\u001b[0;34m\u001b[0m\u001b[0m\n\u001b[1;32m    284\u001b[0m             \u001b[0;32mif\u001b[0m \u001b[0mself\u001b[0m\u001b[0;34m.\u001b[0m\u001b[0mSLOOnotSamesize\u001b[0m\u001b[0;34m:\u001b[0m\u001b[0;34m\u001b[0m\u001b[0m\n",
      "\u001b[0;31mException\u001b[0m: To save vector files, you need to use in input a vector, not an array"
     ]
    }
   ],
   "source": [
    "CV = crossValidation.saveVectorFiles('../data/cv.sqlite')\n",
    "for tr,vl in CV:\n",
    "    print(tr,vl)"
   ]
  }
 ],
 "metadata": {
  "kernelspec": {
   "display_name": "Python 3",
   "language": "python",
   "name": "python3"
  },
  "language_info": {
   "codemirror_mode": {
    "name": "ipython",
    "version": 3
   },
   "file_extension": ".py",
   "mimetype": "text/x-python",
   "name": "python",
   "nbconvert_exporter": "python",
   "pygments_lexer": "ipython3",
   "version": "3.6.6"
  }
 },
 "nbformat": 4,
 "nbformat_minor": 2
}
