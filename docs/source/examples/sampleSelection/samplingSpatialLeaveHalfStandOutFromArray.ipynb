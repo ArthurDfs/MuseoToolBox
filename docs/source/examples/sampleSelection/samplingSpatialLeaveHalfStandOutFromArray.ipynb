{
 "cells": [
  {
   "cell_type": "markdown",
   "metadata": {},
   "source": [
    "# Generate Cross-Validation from array with Leave some Stand Out (LOO for subgroups)"
   ]
  },
  {
   "cell_type": "code",
   "execution_count": 8,
   "metadata": {},
   "outputs": [],
   "source": [
    "from MuseoToolBox import crossValidationTools\n",
    "\n",
    "inVector = '../data/train.gpkg'\n",
    "levelField = 'Class'\n",
    "standField = 'uniqueFID'"
   ]
  },
  {
   "cell_type": "markdown",
   "metadata": {},
   "source": [
    "## Load vector\n",
    "As we want to generate the Cross-Validation per class from array, we need to load the vector in python."
   ]
  },
  {
   "cell_type": "code",
   "execution_count": 11,
   "metadata": {},
   "outputs": [],
   "source": [
    "from MuseoToolBox.vectorTools import readValuesFromVector\n",
    "Y,S=readValuesFromVector(inVector,levelField,standField)"
   ]
  },
  {
   "cell_type": "markdown",
   "metadata": {},
   "source": [
    "## Select a sampling Method\n",
    "In crossValidationSelection, a class samplingMethods contains a function for each method.\n",
    "Here we choose the standCV to generate a Cross-Validation by stand (or by group/polygon).\n",
    "standCV allows you to SLOO (to keep just one stand/polygon for the validation), or leave False to use 50% of stands for training and 50% for validation."
   ]
  },
  {
   "cell_type": "code",
   "execution_count": 15,
   "metadata": {},
   "outputs": [],
   "source": [
    "LSSO = crossValidationTools.LeavePSubGroupOut(Y,inField=None,inGroup=S,valid_size=0.5,n_splits=3,seed=12)"
   ]
  },
  {
   "cell_type": "markdown",
   "metadata": {},
   "source": [
    "Now the crossValidation is ready to compute. You have two choices : \n",
    "### Generate the Cross-Validation for Scikit-Learn"
   ]
  },
  {
   "cell_type": "code",
   "execution_count": 16,
   "metadata": {
    "scrolled": true
   },
   "outputs": [
    {
     "name": "stdout",
     "output_type": "stream",
     "text": [
      "[ 2  3  8  4  6 14 16 10 13]\n",
      "[ 0  1  7  5  9 15 12 11]\n",
      "[ 0  1  8  4  6 14 15 12 13]\n",
      "[ 2  3  7  5  9 16 10 11]\n",
      "[ 0  7  8  6  9 15 16 10 13]\n",
      "[ 1  2  3  4  5 14 12 11]\n"
     ]
    }
   ],
   "source": [
    "CV = LSSO.split()\n",
    "# print each idx\n",
    "for tr,vl in CV:\n",
    "    print(tr)\n",
    "    print(vl)"
   ]
  },
  {
   "cell_type": "markdown",
   "metadata": {},
   "source": [
    "### But... You can't save a vector from this CV\n",
    "\n",
    "As saving as vector need spatial reference, location and fields, you can't save a vector from this Cross-Validation. If you try you will have this error :"
   ]
  },
  {
   "cell_type": "code",
   "execution_count": 18,
   "metadata": {},
   "outputs": [
    {
     "ename": "Exception",
     "evalue": "To save vector files, you need to use in input a vector, not an array",
     "output_type": "error",
     "traceback": [
      "\u001b[0;31m---------------------------------------------------------------------------\u001b[0m",
      "\u001b[0;31mException\u001b[0m                                 Traceback (most recent call last)",
      "\u001b[0;32m<ipython-input-18-aca30cf0bc19>\u001b[0m in \u001b[0;36m<module>\u001b[0;34m()\u001b[0m\n\u001b[0;32m----> 1\u001b[0;31m \u001b[0mCV\u001b[0m \u001b[0;34m=\u001b[0m \u001b[0mLSSO\u001b[0m\u001b[0;34m.\u001b[0m\u001b[0msaveVectorFiles\u001b[0m\u001b[0;34m(\u001b[0m\u001b[0;34m'../data/cv.sqlite'\u001b[0m\u001b[0;34m)\u001b[0m\u001b[0;34m\u001b[0m\u001b[0;34m\u001b[0m\u001b[0m\n\u001b[0m\u001b[1;32m      2\u001b[0m \u001b[0;32mfor\u001b[0m \u001b[0mtr\u001b[0m\u001b[0;34m,\u001b[0m\u001b[0mvl\u001b[0m \u001b[0;32min\u001b[0m \u001b[0mCV\u001b[0m\u001b[0;34m:\u001b[0m\u001b[0;34m\u001b[0m\u001b[0;34m\u001b[0m\u001b[0m\n\u001b[1;32m      3\u001b[0m     \u001b[0mprint\u001b[0m\u001b[0;34m(\u001b[0m\u001b[0mtr\u001b[0m\u001b[0;34m,\u001b[0m\u001b[0mvl\u001b[0m\u001b[0;34m)\u001b[0m\u001b[0;34m\u001b[0m\u001b[0;34m\u001b[0m\u001b[0m\n",
      "\u001b[0;32m/mnt/DATA/lib/MuseoToolBox/MuseoToolBox/crossValidationTools/_sampleSelection.py\u001b[0m in \u001b[0;36msaveVectorFiles\u001b[0;34m(self, outVector)\u001b[0m\n\u001b[1;32m    148\u001b[0m         \u001b[0;32mif\u001b[0m \u001b[0mself\u001b[0m\u001b[0;34m.\u001b[0m\u001b[0minVectorIsArray\u001b[0m\u001b[0;34m:\u001b[0m\u001b[0;34m\u001b[0m\u001b[0;34m\u001b[0m\u001b[0m\n\u001b[1;32m    149\u001b[0m             raise Exception(\n\u001b[0;32m--> 150\u001b[0;31m                 'To save vector files, you need to use in input a vector, not an array')\n\u001b[0m\u001b[1;32m    151\u001b[0m         \u001b[0;32mif\u001b[0m \u001b[0mself\u001b[0m\u001b[0;34m.\u001b[0m\u001b[0msamplingType\u001b[0m \u001b[0;34m==\u001b[0m \u001b[0;34m'SLOO'\u001b[0m\u001b[0;34m:\u001b[0m\u001b[0;34m\u001b[0m\u001b[0;34m\u001b[0m\u001b[0m\n\u001b[1;32m    152\u001b[0m             \u001b[0;32mif\u001b[0m \u001b[0mself\u001b[0m\u001b[0;34m.\u001b[0m\u001b[0mSLOOnotSamesize\u001b[0m\u001b[0;34m:\u001b[0m\u001b[0;34m\u001b[0m\u001b[0;34m\u001b[0m\u001b[0m\n",
      "\u001b[0;31mException\u001b[0m: To save vector files, you need to use in input a vector, not an array"
     ]
    }
   ],
   "source": [
    "CV = LSSO.saveVectorFiles('../data/cv.sqlite')\n",
    "for tr,vl in CV:\n",
    "    print(tr,vl)"
   ]
  }
 ],
 "metadata": {
  "kernelspec": {
   "display_name": "Python 3",
   "language": "python",
   "name": "python3"
  },
  "language_info": {
   "codemirror_mode": {
    "name": "ipython",
    "version": 3
   },
   "file_extension": ".py",
   "mimetype": "text/x-python",
   "name": "python",
   "nbconvert_exporter": "python",
   "pygments_lexer": "ipython3",
   "version": "3.6.7"
  }
 },
 "nbformat": 4,
 "nbformat_minor": 2
}
