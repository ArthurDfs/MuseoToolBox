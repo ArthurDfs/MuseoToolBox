{
 "cells": [
  {
   "cell_type": "markdown",
   "metadata": {},
   "source": [
    "# Generate Cross-Validation with Spatial Leave-One-Out (SLOO)"
   ]
  },
  {
   "cell_type": "code",
   "execution_count": 1,
   "metadata": {},
   "outputs": [],
   "source": [
    "from MuseoToolBox import crossValidationTools\n",
    "from MuseoToolBox.vectorTools import getDistanceMatrixForDistanceCV\n",
    "inRaster = '../data/map_lowres.tif'\n",
    "inVector = '../data/train_withROI.gpkg'\n",
    "levelField = 'Class'"
   ]
  },
  {
   "cell_type": "markdown",
   "metadata": {},
   "source": [
    "## Select a sampling method\n",
    "In crossValidationSelection, a class samplingMethods contains a function for each method.\n",
    "\n",
    "Here we choose the SLOOCV to generate a Cross-Validation using each pixel for validation according to a thresold distance."
   ]
  },
  {
   "cell_type": "markdown",
   "metadata": {},
   "source": [
    "Compute distance matrix"
   ]
  },
  {
   "cell_type": "code",
   "execution_count": 2,
   "metadata": {
    "scrolled": true
   },
   "outputs": [
    {
     "name": "stdout",
     "output_type": "stream",
     "text": [
      "Values from 'False' field will be extracted\n",
      "Reading raster values...  [###################.....................]49%\r"
     ]
    }
   ],
   "source": [
    "distanceMatrix = getDistanceMatrixForDistanceCV(inRaster,inVector)"
   ]
  },
  {
   "cell_type": "code",
   "execution_count": 3,
   "metadata": {},
   "outputs": [
    {
     "name": "stdout",
     "output_type": "stream",
     "text": [
      "Values from 'Class' field will be extracted\n",
      "Reading raster values...  [###################.....................]49%\r"
     ]
    }
   ],
   "source": [
    "#distanceThresold is 100 pixels here\n",
    "SLOO = crossValidationTools.SLOO(inRaster,inVector,levelField,distanceThresold=100,distanceMatrix=distanceMatrix,seed=12)"
   ]
  },
  {
   "cell_type": "markdown",
   "metadata": {},
   "source": [
    "Now the crossValidation is ready to compute. You have two choices : \n",
    "### Generate the Cross-Validation for Scikit-Learn"
   ]
  },
  {
   "cell_type": "code",
   "execution_count": 4,
   "metadata": {
    "scrolled": true
   },
   "outputs": [
    {
     "name": "stdout",
     "output_type": "stream",
     "text": [
      "Number of iteration : 8\n",
      "Number of samples for train / validation : \n",
      "9548 5\n",
      "8014 5\n",
      "10520 5\n",
      "8464 5\n",
      "8801 5\n",
      "9394 5\n",
      "8435 5\n",
      "8551 5\n"
     ]
    }
   ],
   "source": [
    "CV = SLOO.split()\n",
    "print('Number of iteration : '+str(CV.n_splits))\n",
    "print('Number of samples for train / validation : ')\n",
    "for idx, trvl in enumerate(CV):\n",
    "    train = trvl[0]\n",
    "    valid = trvl[1]\n",
    "    print(train.shape[0],valid.shape[0])"
   ]
  },
  {
   "cell_type": "markdown",
   "metadata": {},
   "source": [
    "### Save the Cross-Validation in as many as files as training/validation iteration.\n",
    "\n",
    "As Cross-Validation are generated on demand, you have to reinitialize the process and please make sure to have defined a seed to have exactly the same CV."
   ]
  },
  {
   "cell_type": "code",
   "execution_count": 5,
   "metadata": {},
   "outputs": [
    {
     "name": "stdout",
     "output_type": "stream",
     "text": [
      "Values from 'Class' field will be extracted\n",
      "../data/cv_train_0.sqlite ../data/cv_valid_0.sqlite................]49%\n",
      "../data/cv_train_1.sqlite ../data/cv_valid_1.sqlite\n",
      "../data/cv_train_2.sqlite ../data/cv_valid_2.sqlite\n",
      "../data/cv_train_3.sqlite ../data/cv_valid_3.sqlite\n",
      "../data/cv_train_4.sqlite ../data/cv_valid_4.sqlite\n",
      "../data/cv_train_5.sqlite ../data/cv_valid_5.sqlite\n",
      "../data/cv_train_6.sqlite ../data/cv_valid_6.sqlite\n",
      "../data/cv_train_7.sqlite ../data/cv_valid_7.sqlite\n"
     ]
    }
   ],
   "source": [
    "CV = SLOO.saveVectorFiles('../data/cv.sqlite')\n",
    "for tr,vl in CV:\n",
    "    print(tr,vl)"
   ]
  }
 ],
 "metadata": {
  "kernelspec": {
   "display_name": "Python 3",
   "language": "python",
   "name": "python3"
  },
  "language_info": {
   "codemirror_mode": {
    "name": "ipython",
    "version": 3
   },
   "file_extension": ".py",
   "mimetype": "text/x-python",
   "name": "python",
   "nbconvert_exporter": "python",
   "pygments_lexer": "ipython3",
   "version": "3.6.7"
  }
 },
 "nbformat": 4,
 "nbformat_minor": 2
}
