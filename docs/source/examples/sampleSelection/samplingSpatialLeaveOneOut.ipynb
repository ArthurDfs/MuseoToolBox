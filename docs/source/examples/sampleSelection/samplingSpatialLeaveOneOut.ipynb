{
 "cells": [
  {
   "cell_type": "markdown",
   "metadata": {},
   "source": [
    "# Generate Cross-Validation with Spatial Leave-One-Out (SLOO)"
   ]
  },
  {
   "cell_type": "code",
   "execution_count": 1,
   "metadata": {},
   "outputs": [],
   "source": [
    "from MuseoToolBox.vectorTools import crossValidationSelection\n",
    "inRaster = '../data/map.tif'\n",
    "inVector = '../data/train_withROI.gpkg'\n",
    "levelField = 'Class'"
   ]
  },
  {
   "cell_type": "markdown",
   "metadata": {},
   "source": [
    "## Select a sampling method\n",
    "In crossValidationSelection, a class samplingMethods contains a function for each method.\n",
    "\n",
    "Here we choose the SLOOCV to generate a Cross-Validation using each pixel for validation according to a thresold distance."
   ]
  },
  {
   "cell_type": "markdown",
   "metadata": {},
   "source": [
    "Compute distance matrix"
   ]
  },
  {
   "cell_type": "code",
   "execution_count": 2,
   "metadata": {
    "scrolled": true
   },
   "outputs": [
    {
     "name": "stdout",
     "output_type": "stream",
     "text": [
      "Reading raster values...  [########################################]100%\n"
     ]
    }
   ],
   "source": [
    "distanceMatrix = crossValidationSelection.samplingMethods.getDistanceMatrixForDistanceCV(inRaster,inVector)\n",
    "\n",
    "#distanceThresold is 100 pixels here\n",
    "samplingMethod = crossValidationSelection.samplingMethods.SLOOCV(inRaster,inVector,distanceThresold=100,distanceMatrix=distanceMatrix,seed=12)"
   ]
  },
  {
   "cell_type": "code",
   "execution_count": 3,
   "metadata": {},
   "outputs": [
    {
     "name": "stdout",
     "output_type": "stream",
     "text": [
      "Reading raster values...  [########################################]100%\n"
     ]
    }
   ],
   "source": [
    "crossValidation = crossValidationSelection.sampleSelection(inVector,levelField,samplingMethod)"
   ]
  },
  {
   "cell_type": "markdown",
   "metadata": {},
   "source": [
    "Now the crossValidation is ready to compute. You have two choices : \n",
    "### Generate the Cross-Validation for Scikit-Learn"
   ]
  },
  {
   "cell_type": "code",
   "execution_count": 4,
   "metadata": {
    "scrolled": true
   },
   "outputs": [
    {
     "name": "stdout",
     "output_type": "stream",
     "text": [
      "Number of iteration : 39\n",
      "Number of samples for train / validation : \n",
      "31655 4\n",
      "28755 4\n",
      "33762 4\n",
      "30404 4\n",
      "33757 4\n",
      "34101 4\n",
      "26606 4\n",
      "32516 4\n",
      "30639 4\n",
      "28086 4\n",
      "28468 4\n",
      "31553 4\n",
      "26606 4\n",
      "33020 4\n",
      "32398 4\n",
      "26606 4\n",
      "29268 4\n",
      "31625 4\n",
      "29956 4\n",
      "32569 4\n",
      "32147 4\n",
      "32407 4\n",
      "28769 4\n",
      "29961 4\n",
      "31470 4\n",
      "30017 4\n",
      "31488 4\n",
      "31208 4\n",
      "29961 4\n",
      "31950 4\n",
      "28504 4\n",
      "32522 4\n",
      "31626 4\n",
      "28321 4\n",
      "28537 4\n",
      "34071 4\n",
      "32701 4\n",
      "29417 4\n",
      "29961 4\n"
     ]
    }
   ],
   "source": [
    "CV = crossValidation.getCrossValidationForScikitLearn()\n",
    "print('Number of iteration : '+str(CV.maxIter))\n",
    "print('Number of samples for train / validation : ')\n",
    "for idx, trvl in enumerate(CV):\n",
    "    train = trvl[0]\n",
    "    valid = trvl[1]\n",
    "    print(train.shape[0],valid.shape[0])"
   ]
  },
  {
   "cell_type": "markdown",
   "metadata": {},
   "source": [
    "### Save the Cross-Validation in as many as files as training/validation iteration.\n",
    "\n",
    "As Cross-Validation are generated on demand, you have to reinitialize the process and please make sure to have defined a seed to have exactly the same CV."
   ]
  },
  {
   "cell_type": "code",
   "execution_count": 5,
   "metadata": {},
   "outputs": [
    {
     "name": "stdout",
     "output_type": "stream",
     "text": [
      "Reading raster values...  [########################################]100%\n",
      "data/cv_train_0.sqlite data/cv_valid_0.sqlite\n",
      "data/cv_train_1.sqlite data/cv_valid_1.sqlite\n",
      "data/cv_train_2.sqlite data/cv_valid_2.sqlite\n",
      "data/cv_train_3.sqlite data/cv_valid_3.sqlite\n",
      "data/cv_train_4.sqlite data/cv_valid_4.sqlite\n",
      "data/cv_train_5.sqlite data/cv_valid_5.sqlite\n",
      "data/cv_train_6.sqlite data/cv_valid_6.sqlite\n",
      "data/cv_train_7.sqlite data/cv_valid_7.sqlite\n",
      "data/cv_train_8.sqlite data/cv_valid_8.sqlite\n",
      "data/cv_train_9.sqlite data/cv_valid_9.sqlite\n",
      "data/cv_train_10.sqlite data/cv_valid_10.sqlite\n",
      "data/cv_train_11.sqlite data/cv_valid_11.sqlite\n",
      "data/cv_train_12.sqlite data/cv_valid_12.sqlite\n",
      "data/cv_train_13.sqlite data/cv_valid_13.sqlite\n",
      "data/cv_train_14.sqlite data/cv_valid_14.sqlite\n",
      "data/cv_train_15.sqlite data/cv_valid_15.sqlite\n",
      "data/cv_train_16.sqlite data/cv_valid_16.sqlite\n",
      "data/cv_train_17.sqlite data/cv_valid_17.sqlite\n",
      "data/cv_train_18.sqlite data/cv_valid_18.sqlite\n",
      "data/cv_train_19.sqlite data/cv_valid_19.sqlite\n",
      "data/cv_train_20.sqlite data/cv_valid_20.sqlite\n",
      "data/cv_train_21.sqlite data/cv_valid_21.sqlite\n",
      "data/cv_train_22.sqlite data/cv_valid_22.sqlite\n",
      "data/cv_train_23.sqlite data/cv_valid_23.sqlite\n",
      "data/cv_train_24.sqlite data/cv_valid_24.sqlite\n",
      "data/cv_train_25.sqlite data/cv_valid_25.sqlite\n",
      "data/cv_train_26.sqlite data/cv_valid_26.sqlite\n",
      "data/cv_train_27.sqlite data/cv_valid_27.sqlite\n",
      "data/cv_train_28.sqlite data/cv_valid_28.sqlite\n",
      "data/cv_train_29.sqlite data/cv_valid_29.sqlite\n",
      "data/cv_train_30.sqlite data/cv_valid_30.sqlite\n",
      "data/cv_train_31.sqlite data/cv_valid_31.sqlite\n",
      "data/cv_train_32.sqlite data/cv_valid_32.sqlite\n",
      "data/cv_train_33.sqlite data/cv_valid_33.sqlite\n",
      "data/cv_train_34.sqlite data/cv_valid_34.sqlite\n",
      "data/cv_train_35.sqlite data/cv_valid_35.sqlite\n",
      "data/cv_train_36.sqlite data/cv_valid_36.sqlite\n",
      "data/cv_train_37.sqlite data/cv_valid_37.sqlite\n",
      "data/cv_train_38.sqlite data/cv_valid_38.sqlite\n"
     ]
    }
   ],
   "source": [
    "CV = crossValidation.saveVectorFiles('../data/cv.sqlite')\n",
    "for tr,vl in CV:\n",
    "    print(tr,vl)"
   ]
  }
 ],
 "metadata": {
  "kernelspec": {
   "display_name": "Python 3",
   "language": "python",
   "name": "python3"
  },
  "language_info": {
   "codemirror_mode": {
    "name": "ipython",
    "version": 3
   },
   "file_extension": ".py",
   "mimetype": "text/x-python",
   "name": "python",
   "nbconvert_exporter": "python",
   "pygments_lexer": "ipython3",
   "version": "3.6.6"
  }
 },
 "nbformat": 4,
 "nbformat_minor": 2
}
