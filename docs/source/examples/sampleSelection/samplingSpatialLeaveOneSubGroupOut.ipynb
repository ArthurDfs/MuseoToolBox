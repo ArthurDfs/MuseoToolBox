{
 "cells": [
  {
   "cell_type": "markdown",
   "metadata": {},
   "source": [
    "# Generate Cross-Validation with Spatial Leave-One-SubGroup-Out (SLOO)"
   ]
  },
  {
   "cell_type": "code",
   "execution_count": 1,
   "metadata": {},
   "outputs": [],
   "source": [
    "from MuseoToolBox import crossValidationTools\n",
    "inRaster = '../data/map_lowres.tif'\n",
    "inVector = '../data/train_withROI.gpkg'\n",
    "levelField = 'Class'\n",
    "subGroup = 'uniquefid'"
   ]
  },
  {
   "cell_type": "markdown",
   "metadata": {},
   "source": [
    "## Select a sampling method\n",
    "In crossValidationSelection, a class samplingMethods contains a function for each method.\n",
    "\n",
    "Here we choose the SLOOCV to generate a Cross-Validation using each pixel for validation according to a thresold distance."
   ]
  },
  {
   "cell_type": "markdown",
   "metadata": {},
   "source": [
    "Compute distance matrix"
   ]
  },
  {
   "cell_type": "code",
   "execution_count": 2,
   "metadata": {
    "scrolled": true
   },
   "outputs": [
    {
     "name": "stdout",
     "output_type": "stream",
     "text": [
      "Values from 'uniquefid' field will be extracted\n",
      "Reading raster values...  [########################################]100%\n"
     ]
    }
   ],
   "source": [
    "distanceMatrix,distanceLabel = crossValidationTools.getDistanceMatrix(inRaster,inVector,subGroup)"
   ]
  },
  {
   "cell_type": "code",
   "execution_count": 3,
   "metadata": {},
   "outputs": [
    {
     "name": "stdout",
     "output_type": "stream",
     "text": [
      "Values from 'Class' field will be extracted\n",
      "Reading raster values...  [########################################]100%\n"
     ]
    }
   ],
   "source": [
    "#distanceThresold is 100 pixels here\n",
    "SLOSGO = crossValidationTools.SpatialLeaveOneSubGroupOut(inRaster,inVector,inField='Class',inGroup='uniquefid',\\\n",
    "                                                         distanceThresold=100,distanceMatrix=distanceMatrix,distanceLabel=distanceLabel,\\\n",
    "                                                         seed=12)"
   ]
  },
  {
   "cell_type": "markdown",
   "metadata": {},
   "source": [
    "Now the crossValidation is ready to compute. You have two choices : \n",
    "### Generate the Cross-Validation for Scikit-Learn"
   ]
  },
  {
   "cell_type": "code",
   "execution_count": 4,
   "metadata": {
    "scrolled": true
   },
   "outputs": [
    {
     "name": "stdout",
     "output_type": "stream",
     "text": [
      "Number of iteration : 2\n",
      "Number of samples for train / validation : \n",
      "6677 3099\n",
      "6677 3406\n"
     ]
    }
   ],
   "source": [
    "CV = SLOSGO.split()\n",
    "print('Number of iteration : '+str(CV.n_splits))\n",
    "print('Number of samples for train / validation : ')\n",
    "for idx, trvl in enumerate(CV):\n",
    "    train = trvl[0]\n",
    "    valid = trvl[1]\n",
    "    print(train.shape[0],valid.shape[0])"
   ]
  },
  {
   "cell_type": "markdown",
   "metadata": {},
   "source": [
    "### Save the Cross-Validation in as many as files as training/validation iteration.\n",
    "\n",
    "As Cross-Validation are generated on demand, you have to reinitialize the process and please make sure to have defined a seed to have exactly the same CV."
   ]
  },
  {
   "cell_type": "code",
   "execution_count": 5,
   "metadata": {},
   "outputs": [
    {
     "name": "stdout",
     "output_type": "stream",
     "text": [
      "Values from 'Class' field will be extracted\n",
      "Reading raster values...  [########################################]100%\n",
      "../data/cv_train_0.sqlite ../data/cv_valid_0.sqlite\n",
      "../data/cv_train_1.sqlite ../data/cv_valid_1.sqlite\n"
     ]
    }
   ],
   "source": [
    "CV = SLOSGO.saveVectorFiles('../data/cv.sqlite')\n",
    "for tr,vl in CV:\n",
    "    print(tr,vl)"
   ]
  }
 ],
 "metadata": {
  "kernelspec": {
   "display_name": "Python 3",
   "language": "python",
   "name": "python3"
  },
  "language_info": {
   "codemirror_mode": {
    "name": "ipython",
    "version": 3
   },
   "file_extension": ".py",
   "mimetype": "text/x-python",
   "name": "python",
   "nbconvert_exporter": "python",
   "pygments_lexer": "ipython3",
   "version": "3.6.7"
  }
 },
 "nbformat": 4,
 "nbformat_minor": 2
}
