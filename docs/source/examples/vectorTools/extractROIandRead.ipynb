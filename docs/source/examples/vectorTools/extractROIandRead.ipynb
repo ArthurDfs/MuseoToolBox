{
 "cells": [
  {
   "cell_type": "markdown",
   "metadata": {},
   "source": [
    "# Copy raster values in vector and read values in python\n",
    "This notebook is an example on how to extract from polygons or points each pixel centroid located in the vector (polygons/points) and how to extract band values.\n",
    "\n",
    "Caution : **This will output points, and as many points as pixels inside polygons, so it can be really heavy !**"
   ]
  },
  {
   "cell_type": "code",
   "execution_count": 1,
   "metadata": {},
   "outputs": [],
   "source": [
    "from MuseoToolBox.vectorTools import sampleExtraction"
   ]
  },
  {
   "cell_type": "markdown",
   "metadata": {},
   "source": [
    "## Define the tree mandatory variables"
   ]
  },
  {
   "cell_type": "code",
   "execution_count": 2,
   "metadata": {},
   "outputs": [],
   "source": [
    "inRaster = '../data/map_lowres.tif'\n",
    "inVector = '../data/train.gpkg'\n",
    "outVector = '../data/train_withROI.gpkg'"
   ]
  },
  {
   "cell_type": "markdown",
   "metadata": {},
   "source": [
    "## Run the sampleExtraction\n",
    "Now MuseoToolBox is going to compute two things : \n",
    "- Rasterize the vector in order to extract values of raster\n",
    "- Link the new vector (outVector) with the same field as the in vector."
   ]
  },
  {
   "cell_type": "code",
   "execution_count": 3,
   "metadata": {
    "scrolled": false
   },
   "outputs": [
    {
     "name": "stdout",
     "output_type": "stream",
     "text": [
      "Adding 'uniquefid' field to the original vector.\n",
      "Field 'uniquefid' is already in ../data/train.gpkg\n",
      "Extract values from raster...\n",
      "Values from 'uniquefid' field will be extracted\n",
      "Adding each centroid to ../data/train_withROI.gpkg.................]49%\n",
      "Adding points...  [########################################]100%\n"
     ]
    },
    {
     "data": {
      "text/plain": [
       "<MuseoToolBox.vectorTools.sampleExtraction.sampleExtraction at 0x7f12876911d0>"
      ]
     },
     "execution_count": 3,
     "metadata": {},
     "output_type": "execute_result"
    }
   ],
   "source": [
    "sampleExtraction(inRaster,inVector,outVector,bandPrefix='band_')"
   ]
  },
  {
   "cell_type": "markdown",
   "metadata": {},
   "source": [
    "# Read values of each pixel"
   ]
  },
  {
   "cell_type": "code",
   "execution_count": 4,
   "metadata": {},
   "outputs": [],
   "source": [
    "from MuseoToolBox import vectorTools\n",
    "Y,X = vectorTools.readValuesFromVector(outVector,'Class',bandPrefix='band_')"
   ]
  },
  {
   "cell_type": "code",
   "execution_count": 5,
   "metadata": {},
   "outputs": [
    {
     "name": "stdout",
     "output_type": "stream",
     "text": [
      "(12647, 3)\n",
      "(12647,)\n"
     ]
    }
   ],
   "source": [
    "print(X.shape)\n",
    "print(Y.shape)"
   ]
  },
  {
   "cell_type": "markdown",
   "metadata": {},
   "source": [
    "It means the vector contains 12647 features (points), and the raster (X) has 3bands."
   ]
  },
  {
   "cell_type": "markdown",
   "metadata": {},
   "source": [
    "## Get 10 randoms labels with raster values"
   ]
  },
  {
   "cell_type": "code",
   "execution_count": 6,
   "metadata": {},
   "outputs": [
    {
     "name": "stdout",
     "output_type": "stream",
     "text": [
      "Values are : \n",
      "[[206 183 150]\n",
      " [145 140  96]\n",
      " [162 152 100]\n",
      " [132 127  89]\n",
      " [163 157  94]\n",
      " [107 105  78]\n",
      " [209 182 153]\n",
      " [150 140 100]\n",
      " [ 57  54  44]\n",
      " [168 156 109]]\n"
     ]
    }
   ],
   "source": [
    "import numpy as np\n",
    "np.random.seed(12)\n",
    "randomPosition = np.random.randint(0,X.shape[0],10)\n",
    "print('Values are : ')\n",
    "print(X[randomPosition,:])"
   ]
  },
  {
   "cell_type": "code",
   "execution_count": 7,
   "metadata": {},
   "outputs": [
    {
     "name": "stdout",
     "output_type": "stream",
     "text": [
      "Labels are : \n",
      "[3 1 1 1 1 1 3 1 1 1]\n"
     ]
    }
   ],
   "source": [
    "print('Labels are : ')\n",
    "print(Y[randomPosition])"
   ]
  }
 ],
 "metadata": {
  "kernelspec": {
   "display_name": "Python 3",
   "language": "python",
   "name": "python3"
  },
  "language_info": {
   "codemirror_mode": {
    "name": "ipython",
    "version": 3
   },
   "file_extension": ".py",
   "mimetype": "text/x-python",
   "name": "python",
   "nbconvert_exporter": "python",
   "pygments_lexer": "ipython3",
   "version": "3.6.7"
  }
 },
 "nbformat": 4,
 "nbformat_minor": 2
}
