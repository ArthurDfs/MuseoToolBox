{
 "cells": [
  {
   "cell_type": "markdown",
   "metadata": {},
   "source": [
    "# Extract ROI from vector and read values in python\n",
    "This notebook is an example on how to extract from polygons or points each pixel centroid located in the vector (polygons/points) and how to extract band values."
   ]
  },
  {
   "cell_type": "code",
   "execution_count": 1,
   "metadata": {},
   "outputs": [],
   "source": [
    "from MuseoToolBox.rasterTools import rasterize,getSamplesFromROI\n",
    "import os"
   ]
  },
  {
   "cell_type": "markdown",
   "metadata": {},
   "source": [
    "## Define the tree mandatory variables"
   ]
  },
  {
   "cell_type": "code",
   "execution_count": 2,
   "metadata": {},
   "outputs": [],
   "source": [
    "inRaster = '../data/map.tif'\n",
    "inVector = '../data/train.gpkg'\n",
    "inField = 'class'"
   ]
  },
  {
   "cell_type": "markdown",
   "metadata": {},
   "source": [
    "## Read values (Band values and Class values)\n"
   ]
  },
  {
   "cell_type": "code",
   "execution_count": 3,
   "metadata": {
    "scrolled": true
   },
   "outputs": [
    {
     "name": "stdout",
     "output_type": "stream",
     "text": [
      "Values from 'class' field will be extracted\n",
      "Reading raster values...  [########################################]100%\n"
     ]
    }
   ],
   "source": [
    "X,Y = getSamplesFromROI(inRaster,inVector,inField)"
   ]
  },
  {
   "cell_type": "code",
   "execution_count": 4,
   "metadata": {},
   "outputs": [
    {
     "name": "stdout",
     "output_type": "stream",
     "text": [
      "[[ 212.  190.  159.]\n",
      " [ 141.  132.  115.]\n",
      " [ 149.  144.  112.]\n",
      " [  69.   65.   44.]\n",
      " [  57.   51.   44.]]\n",
      "[3 1 1 1 1]\n"
     ]
    }
   ],
   "source": [
    "print(X[4002:4007])\n",
    "print(Y[4002:4007])"
   ]
  },
  {
   "cell_type": "markdown",
   "metadata": {},
   "source": [
    "## Read values with pixel location"
   ]
  },
  {
   "cell_type": "code",
   "execution_count": 5,
   "metadata": {},
   "outputs": [],
   "source": [
    "inStand = 'uniqueFID'"
   ]
  },
  {
   "cell_type": "code",
   "execution_count": 6,
   "metadata": {},
   "outputs": [
    {
     "name": "stdout",
     "output_type": "stream",
     "text": [
      "Values from 'class' field will be extracted\n",
      "Reading raster values...  [########################################]100%\n"
     ]
    }
   ],
   "source": [
    "X,Y,coords = getSamplesFromROI(inRaster,inVector,inField,getCoords=True)"
   ]
  },
  {
   "cell_type": "code",
   "execution_count": 7,
   "metadata": {},
   "outputs": [
    {
     "name": "stdout",
     "output_type": "stream",
     "text": [
      "[[ 212.  190.  159.]\n",
      " [ 141.  132.  115.]\n",
      " [ 149.  144.  112.]\n",
      " [  69.   65.   44.]\n",
      " [  57.   51.   44.]]\n",
      "[3 1 1 1 1]\n",
      "[[ 457.  184.]\n",
      " [ 914.  184.]\n",
      " [ 915.  184.]\n",
      " [ 916.  184.]\n",
      " [ 917.  184.]]\n"
     ]
    }
   ],
   "source": [
    "print(X[4002:4007])\n",
    "print(Y[4002:4007])\n",
    "print(coords[4002:4007,:])"
   ]
  },
  {
   "cell_type": "markdown",
   "metadata": {},
   "source": [
    "## Get only coords"
   ]
  },
  {
   "cell_type": "code",
   "execution_count": 8,
   "metadata": {},
   "outputs": [
    {
     "name": "stdout",
     "output_type": "stream",
     "text": [
      "Values from 'class' field will be extracted\n",
      "Reading raster values...  [########################################]100%\n"
     ]
    }
   ],
   "source": [
    "coords = getSamplesFromROI(inRaster,inVector,inField,getCoords=True,onlyCoords=True)"
   ]
  },
  {
   "cell_type": "code",
   "execution_count": 9,
   "metadata": {},
   "outputs": [
    {
     "name": "stdout",
     "output_type": "stream",
     "text": [
      "[[ 457.  184.]\n",
      " [ 914.  184.]\n",
      " [ 915.  184.]\n",
      " [ 916.  184.]\n",
      " [ 917.  184.]]\n"
     ]
    }
   ],
   "source": [
    "print(coords[4002:4007,:])"
   ]
  },
  {
   "cell_type": "markdown",
   "metadata": {},
   "source": [
    "## Read values of differents fields"
   ]
  },
  {
   "cell_type": "markdown",
   "metadata": {},
   "source": [
    "### Of only one more field"
   ]
  },
  {
   "cell_type": "code",
   "execution_count": 10,
   "metadata": {},
   "outputs": [
    {
     "name": "stdout",
     "output_type": "stream",
     "text": [
      "Values from 'class' field will be extracted\n",
      "Values from 'uniqueFID' field will be extracted\n",
      "Reading raster values...  [########################################]100%\n"
     ]
    }
   ],
   "source": [
    "X,Y,FID = getSamplesFromROI(inRaster,inVector,inField,'uniqueFID')"
   ]
  },
  {
   "cell_type": "code",
   "execution_count": 11,
   "metadata": {},
   "outputs": [
    {
     "name": "stdout",
     "output_type": "stream",
     "text": [
      "[3 1 1 1 1]\n",
      "[16  1  1  1  1]\n"
     ]
    }
   ],
   "source": [
    "print(Y[4002:4007])\n",
    "print(FID[4002:4007])"
   ]
  },
  {
   "cell_type": "markdown",
   "metadata": {},
   "source": [
    "### Of 3 or more fields\n",
    "NB : I just duplicate class *field* for the example"
   ]
  },
  {
   "cell_type": "code",
   "execution_count": 12,
   "metadata": {},
   "outputs": [
    {
     "name": "stdout",
     "output_type": "stream",
     "text": [
      "Values from 'class' field will be extracted\n",
      "Values from 'uniqueFID' field will be extracted\n",
      "Values from 'Class' field will be extracted\n",
      "Reading raster values...  [########################################]100%\n"
     ]
    }
   ],
   "source": [
    "X,Y,FID,ClassBis = getSamplesFromROI(inRaster,inVector,inField,'uniqueFID','Class')"
   ]
  },
  {
   "cell_type": "code",
   "execution_count": 13,
   "metadata": {},
   "outputs": [
    {
     "name": "stdout",
     "output_type": "stream",
     "text": [
      "[3 1 1 1 1]\n",
      "[16  1  1  1  1]\n",
      "[3 1 1 1 1]\n"
     ]
    }
   ],
   "source": [
    "print(Y[4002:4007])\n",
    "print(FID[4002:4007])\n",
    "print(ClassBis[4002:4007])"
   ]
  }
 ],
 "metadata": {
  "kernelspec": {
   "display_name": "Python 3",
   "language": "python",
   "name": "python3"
  },
  "language_info": {
   "codemirror_mode": {
    "name": "ipython",
    "version": 3
   },
   "file_extension": ".py",
   "mimetype": "text/x-python",
   "name": "python",
   "nbconvert_exporter": "python",
   "pygments_lexer": "ipython3",
   "version": "3.6.7"
  }
 },
 "nbformat": 4,
 "nbformat_minor": 2
}
